{
 "cells": [
  {
   "cell_type": "markdown",
   "metadata": {},
   "source": [
    "# <font color=\"Crimson\">1</font>&nbsp;<font color=\"silver\">|</font> &nbsp;Welcome to Python!"
   ]
  },
  {
   "cell_type": "markdown",
   "metadata": {},
   "source": [
    "## 1.0 | <font color=\"Crimson\">Getting Started\n",
    "In this part we first learn some tricks.\n",
    "\n",
    "- When you import and export files, encoding problems (gibberish) may appear (when non-English letters exist), it is recommended to use **Notepad++**\n",
    "    \n",
    "```\n",
    "Notepad++ is a free source code editor and Notepad replacement that supports several languages\n",
    "```\n",
    "https://notepad-plus-plus.org/downloads/\n",
    "    \n",
    "- ChatGPT is so powerful. \n",
    "    \n",
    "```\n",
    "    Many problems encountered at this stage can be solved by it, you only need to enter \"python\" and copy the error message.\n",
    "```\n",
    "    \n",
    "https://chat.openai.com/chat    "
   ]
  },
  {
   "cell_type": "code",
   "execution_count": null,
   "metadata": {},
   "outputs": [],
   "source": [
    "import sys\n",
    "\n",
    "print(sys.version)"
   ]
  },
  {
   "cell_type": "markdown",
   "metadata": {},
   "source": [
    "## Install Python and Jupyter lab"
   ]
  },
  {
   "cell_type": "markdown",
   "metadata": {},
   "source": [
    "## TEXTBOOK:\n",
    "__[Using Python for Introductory Econometrics](http://www.upfie.net/)__"
   ]
  },
  {
   "cell_type": "markdown",
   "metadata": {},
   "source": [
    "## shortcuts"
   ]
  },
  {
   "cell_type": "markdown",
   "metadata": {},
   "source": [
    "1. __[Jupyter Shortcuts](https://mljar.com/blog/jupyter-notebook-shortcuts/)__  \n",
    "    1. command mode\n",
    "    1. edit mode  \n",
    "1. __[Jupyter Notebook Cheat Sheet](https://www.edureka.co/blog/wp-content/uploads/2018/10/Jupyter_Notebook_CheatSheet_Edureka.pdf)__\n",
    "    1. magic commands: https://ipython.readthedocs.io/en/stable/interactive/magics.html\n",
    "1. __[Markdown Codes](https://www.ibm.com/docs/en/watson-studio-local/1.2.3?topic=notebooks-markdown-jupyter-cheatsheet)__"
   ]
  },
  {
   "cell_type": "markdown",
   "metadata": {},
   "source": [
    "## comment"
   ]
  },
  {
   "cell_type": "code",
   "execution_count": null,
   "metadata": {},
   "outputs": [],
   "source": [
    "# how to comment multiple lines in Jupyter Lab (the same as STATA): Ctrl + /\n",
    "# comment 1\n",
    "# comment 2\n",
    "print(\"Hello Comp!\") # XXXX"
   ]
  },
  {
   "cell_type": "markdown",
   "metadata": {},
   "source": [
    "## install modules"
   ]
  },
  {
   "cell_type": "code",
   "execution_count": null,
   "metadata": {},
   "outputs": [],
   "source": [
    "# pip install XXXXX\n",
    "# use tab to find methodes\n",
    "import math as m\n",
    "import numpy as np\n",
    "import pandas as pd"
   ]
  },
  {
   "cell_type": "code",
   "execution_count": null,
   "metadata": {},
   "outputs": [],
   "source": [
    "%pip install tqdm"
   ]
  },
  {
   "cell_type": "code",
   "execution_count": null,
   "metadata": {},
   "outputs": [],
   "source": [
    "%pip install --upgrade --user pandas "
   ]
  },
  {
   "cell_type": "markdown",
   "metadata": {},
   "source": [
    "- __[Anaconda ORG](https://anaconda.org/)__"
   ]
  },
  {
   "cell_type": "markdown",
   "metadata": {},
   "source": [
    "## working directory"
   ]
  },
  {
   "cell_type": "code",
   "execution_count": null,
   "metadata": {},
   "outputs": [],
   "source": [
    "import pandas as pd\n",
    "df1 = pd.read_csv(r\"API_NE.GDI.TOTL.CD_DS2_en_csv_v2_4771577.csv\", header=4, skip_blank_lines=False)\n",
    "df1.head(1)"
   ]
  },
  {
   "cell_type": "code",
   "execution_count": null,
   "metadata": {},
   "outputs": [],
   "source": [
    "# where is the .ipynb?\n",
    "import os\n",
    "os.getcwd()"
   ]
  },
  {
   "cell_type": "code",
   "execution_count": null,
   "metadata": {},
   "outputs": [],
   "source": [
    "# absolute path; relatvie path\n",
    "# C:\\Users\\zhaoy\\Comp01\\Day01\\Data01      \n",
    "# C:\\Users\\zhaoy\\Comp01\\Day01\\Code01"
   ]
  },
  {
   "cell_type": "code",
   "execution_count": null,
   "metadata": {},
   "outputs": [],
   "source": [
    "df2 = pd.read_csv(r\"..\\Data01\\API_TX.VAL.TECH.MF.ZS_DS2_en_csv_v2_4771883.csv\", header=4, skip_blank_lines=False)\n",
    "df2.head(1)"
   ]
  },
  {
   "cell_type": "markdown",
   "metadata": {},
   "source": [
    "### Exercise <font color=\"Crimson\">1-0</font>\n",
    "Here is an exercise. **Input .csv \"API_TM.VAL.MRCH.CD.WT_DS2_en_csv_v2_4770501.csv\", which is under file of Comp01.**"
   ]
  },
  {
   "cell_type": "code",
   "execution_count": null,
   "metadata": {},
   "outputs": [],
   "source": [
    "# Exercise 1-0\n",
    "# import pandas as pd\n",
    "# dfex = pd.read_csv(r\"[pls write]\", header=4, skip_blank_lines=False)\n",
    "# dfex.head(1)"
   ]
  },
  {
   "cell_type": "markdown",
   "metadata": {},
   "source": [
    "***The task of this study is:***\n",
    "- Understand loops, `for`, `while`, `if`\n",
    "- Understand how to define a funcion, `def`\n",
    "- Familiar with `list`, `string`, `dict`, also slice, append, copy, modify...\n",
    "- Familiar with code format, e.g., indent\n",
    "- Able to read documents\n",
    "- Able to install modules and use them\n",
    "\n",
    "***Then, we focus on data cleaning***\n",
    "- `pandas` module"
   ]
  },
  {
   "cell_type": "markdown",
   "metadata": {},
   "source": [
    "## 1.1 | <font color=\"Crimson\">Printing 'Hello, world'\n",
    "    \n",
    "First of all, let''s see how to output values using Python. Outputting values is one of fundamental and essential function of computer softwares!\n",
    "\n",
    "Below is a kind of the simplest python code, which outputs text, \"Hello, world\" on a screen.  \n",
    "To execute the code, you need to run the cell by clicking it then either **press \"Shift\" + \"Enter\"** keys on your keyboard or **click the play button** on the left side.In this part we first learn some tricks."
   ]
  },
  {
   "cell_type": "code",
   "execution_count": null,
   "metadata": {},
   "outputs": [],
   "source": [
    "# Run this cell\n",
    "print(\"Hello, python\")"
   ]
  },
  {
   "cell_type": "markdown",
   "metadata": {},
   "source": [
    "You'll get \"Hello, world\" as a output. In Python, the `print()` function is used to tell a computer to talk. The message to be printed should be surrounded by quotes."
   ]
  },
  {
   "cell_type": "markdown",
   "metadata": {},
   "source": [
    "Computer programmers refer to blocks of text as strings. In our last exercise, we created the string “Hello, python!”. In Python a string is either surrounded by double quotes (`\"Hello world\"`) or single quotes (`'Hello world'`). It doesn’t matter which kind you use, just be consistent."
   ]
  },
  {
   "cell_type": "code",
   "execution_count": null,
   "metadata": {},
   "outputs": [],
   "source": [
    "# Run this cell\n",
    "print(Hello, world)"
   ]
  },
  {
   "cell_type": "markdown",
   "metadata": {},
   "source": [
    "You will get an error message. This is because python try to interpret a word \"Hello\" in a different way, not a normal text. We'll learn more about this later on. **You always need quotations (\" or ') to output text.**\n",
    "\n",
    "If your print statement uses double-quotes \", change them to single-quotes '. If it uses single-quotes ', change them to double-quotes \".\n",
    "\n",
    "Try running your code again after switching the type of quote-marks. Is anything different about the output?"
   ]
  },
  {
   "cell_type": "markdown",
   "metadata": {},
   "source": [
    "### Exercise <font color=\"Crimson\">1-1</font>\n",
    "Here is an exercise. **Modify a code below to output your name.** "
   ]
  },
  {
   "cell_type": "code",
   "execution_count": null,
   "metadata": {},
   "outputs": [],
   "source": [
    "#Exercise 1-1\n",
    "\n",
    "print()"
   ]
  },
  {
   "cell_type": "markdown",
   "metadata": {},
   "source": [
    "### Exercise <font color=\"Crimson\">1-2</font>\n",
    "**Modify a code below to output any kind of text you want.**"
   ]
  },
  {
   "cell_type": "code",
   "execution_count": null,
   "metadata": {},
   "outputs": [],
   "source": [
    "#Exercise 1-2\n",
    "\n",
    "print()"
   ]
  },
  {
   "cell_type": "markdown",
   "metadata": {},
   "source": [
    "### Exercise <font color=\"Crimson\">1-3</font>\n",
    "**Try to print** `I'm learning Python`**.** Remember the quotation rules."
   ]
  },
  {
   "cell_type": "code",
   "execution_count": null,
   "metadata": {},
   "outputs": [],
   "source": [
    "#Exercise 1-3\n",
    "\n",
    "print()"
   ]
  },
  {
   "cell_type": "markdown",
   "metadata": {},
   "source": [
    "### Exercise <font color=\"Crimson\">1-4</font>\n",
    "**Try to print** `\"I'm learning Python\"`**.** Remember the quotation rules."
   ]
  },
  {
   "cell_type": "code",
   "execution_count": null,
   "metadata": {},
   "outputs": [],
   "source": [
    "#Exercise 1-4\n",
    "\n",
    "print()"
   ]
  },
  {
   "cell_type": "markdown",
   "metadata": {},
   "source": [
    "**Tips**: You can use single quotations instead of double quotations. \\\n",
    "__[special character: `\\`](https://sites.pitt.edu/~naraehan/python3/mbb6.html)__"
   ]
  },
  {
   "cell_type": "markdown",
   "metadata": {},
   "source": [
    "# <font color=\"Crimson\">2</font>&nbsp;<font color=\"silver\">|</font> &nbsp;Calculation"
   ]
  },
  {
   "cell_type": "markdown",
   "metadata": {},
   "source": [
    "## 2.1 | <font color=\"Crimson\">Simple Addition\n",
    "    \n",
    "Now you have learned how to output text with python. Another essential function of computer softwares besides outputting is a computation. Next, try simple calculations using python. \n",
    "Below is a code for outputting a integer, 1. **In this case, you don't need any quotation because 1 here is not a text but a calculable value.**"
   ]
  },
  {
   "cell_type": "code",
   "execution_count": null,
   "metadata": {},
   "outputs": [],
   "source": [
    "# Run this cell\n",
    "print(1)"
   ]
  },
  {
   "cell_type": "markdown",
   "metadata": {},
   "source": [
    "If you put a numerical expression, the print function will output result value of the expression. Please try a code below. "
   ]
  },
  {
   "cell_type": "code",
   "execution_count": null,
   "metadata": {},
   "outputs": [],
   "source": [
    "# Run this cell\n",
    "print( 2 + 3 )"
   ]
  },
  {
   "cell_type": "markdown",
   "metadata": {},
   "source": [
    "### Exercise <font color=\"Crimson\">2-1\n",
    "\n",
    "**Using `print()` and `+`, output the sum of the following list of numbers: 1, 2, 3, 4, 5, 6**\n",
    "\n",
    "Expected result:\n",
    "  ```\n",
    "  21\n",
    "  ```"
   ]
  },
  {
   "cell_type": "code",
   "execution_count": null,
   "metadata": {},
   "outputs": [],
   "source": [
    "#Exercise 2-1\n",
    "print()"
   ]
  },
  {
   "cell_type": "markdown",
   "metadata": {},
   "source": [
    "## 2.2 | <font color=\"Crimson\">Other Simple Operations\n",
    "  \n",
    "Here is how to express basic arithmetic operations in python\n",
    "\n",
    "- _Addition of numbers_ `a + b`\n",
    "- _Subtraction of numbers_ `a - b`\n",
    "- _Multiplication of number_ `a * b`\n",
    "- _Division of number_ `a / b`\n",
    "- _Modulus: Divides left hand operand by right hand operand and returns remainder_ `a % b`\n",
    "- _Exponent: Performs exponential (power) calculation on operators_ `a ** b`  (`pow(x,y)`) in stead of `x^y` such as in STATA\n",
    "\n",
    "See website below for details\n",
    "https://www.tutorialspoint.com/python/arithmetic_operators_example.htm"
   ]
  },
  {
   "cell_type": "markdown",
   "metadata": {},
   "source": [
    "Some examples for basic calculation"
   ]
  },
  {
   "cell_type": "code",
   "execution_count": null,
   "metadata": {},
   "outputs": [],
   "source": [
    "print(3+2)\n",
    "print(3-2)\n",
    "print(3*2)\n",
    "print(3/2)\n",
    "print(3%2)\n",
    "print(3**2)"
   ]
  },
  {
   "cell_type": "markdown",
   "metadata": {},
   "source": [
    "Following code computes and outputs a result of a expression below\n",
    "$$\n",
    "    \\bigl( 2 + 3 \\bigr) \\times 4 ^{3}\n",
    "$$"
   ]
  },
  {
   "cell_type": "code",
   "execution_count": null,
   "metadata": {},
   "outputs": [],
   "source": [
    "print((2+3)*(4**3))"
   ]
  },
  {
   "cell_type": "markdown",
   "metadata": {},
   "source": [
    "### Exercise <font color=\"Crimson\">2-2</font>\n",
    "**Write codes, which calculate and output results of following expressions.** Ask instructors if you have any questions\n",
    "\n",
    "Expression 1\n",
    "$$\n",
    "10 + 20 \\times 40 \\div 50\n",
    "$$\n",
    "Expression 2\n",
    "$$\n",
    "\\bigl( 1 + 2 + 3 \\bigr) \\times 51\n",
    "$$\n",
    "Expression 3\n",
    "$$\n",
    "23482 \\times 23281 \\div 34\n",
    "$$"
   ]
  },
  {
   "cell_type": "code",
   "execution_count": null,
   "metadata": {},
   "outputs": [],
   "source": [
    "#Exercise 2-2\n",
    "\n",
    "# code for expression 1\n",
    "print()\n",
    "# code for expression 2\n",
    "print()\n",
    "# code for expression 3\n",
    "print()\n",
    "\n",
    "# print results of three expressions at the same time\n",
    "print(   ,   , )"
   ]
  },
  {
   "cell_type": "markdown",
   "metadata": {},
   "source": [
    "# <font color=\"Crimson\">3</font>&nbsp;<font color=\"silver\">|</font> &nbsp;Instance and Class"
   ]
  },
  {
   "cell_type": "markdown",
   "metadata": {},
   "source": [
    "## 3.1 | <font color=\"Crimson\">Instance vs Class\n",
    "  \n",
    "We learned when you provide an expression to `print()`, the code will outputs a result of the calculation. `print(1 + 2)` outputs `3`. Then how would you do when you want to output the expression `1 + 2` not the result value?\n",
    "\n",
    "Below is a solution."
   ]
  },
  {
   "cell_type": "code",
   "execution_count": null,
   "metadata": {},
   "outputs": [],
   "source": [
    "print(\"1 + 2\")"
   ]
  },
  {
   "cell_type": "markdown",
   "metadata": {},
   "source": [
    "The code above outputs `1 + 2` as is because `1 + 2` is surrounded by quotation marks (`\"`). The expressions `1 + 2` and `\"1 + 2\"` look alike each other for human, but actually python interprets those as quite different things. To understand this, you need to learn the concept of **instance** and **class**.\n",
    "\n",
    "Values in python programs called **instance**. So, for instance, both `1 + 2` and `\"1 + 2\"` are instances. And every instance in python belongs to a group called **class**. Simply stated, you can think a **class** represents a type of the instance. There is a way to check to what class a instance belongs.\n",
    "\n",
    "Check classes of `1` and `\"1\"`. Again, those are similar to human eye, but are completely different in python. To check a class of a instance, a code `type()` is useful. In this case, `type(1)` and `type(\"1\")`. You need to provide those to `print()` so that a result of `type()` function is printed."
   ]
  },
  {
   "cell_type": "code",
   "execution_count": null,
   "metadata": {},
   "outputs": [],
   "source": [
    "print(type(1))"
   ]
  },
  {
   "cell_type": "code",
   "execution_count": null,
   "metadata": {},
   "outputs": [],
   "source": [
    "print(type(\"1\"))"
   ]
  },
  {
   "cell_type": "markdown",
   "metadata": {},
   "source": [
    "You will get `<class 'int'>` and `<class 'str'>` for `1` and `\"1\"`, respectively. `class 'int'` indicates integer class, and `class 'str'` indicates string class. *string* is a synomym of text in python: string class is a class of text. Thus python interprets `1` as an integer and `\"1\"` as an text.\n",
    "In the case of `1 + 2`, python interprets `1` and `2` as integer values and calculable, so python executes the calculation. "
   ]
  },
  {
   "cell_type": "code",
   "execution_count": null,
   "metadata": {},
   "outputs": [],
   "source": [
    "import numpy as np\n",
    "a = 1 + 1\n",
    "print(a, type(a)) \n",
    "b = [1,2,3,4] # -------------- list\n",
    "print(b, type(b))\n",
    "c = (3,5,7) # -------------- tuple\n",
    "print(c, type(c))\n",
    "d = \"strrr\" # -------------- string\n",
    "print(d, type(d))\n",
    "e =  np.array([[1,3],[2,5]]) # -------------- array\n",
    "print(e, type(e))\n",
    "f = {\"var1\": 11, \"var2\": 22} # -------------- dict\n",
    "print(f, type(f))\n",
    "\n",
    "print(f'type of e is: {type(e)}')\n",
    "print(f'\\\"type of e is: {type(e)}\\\"')\n",
    "print('type of e is: {}'.format(type(e)))"
   ]
  },
  {
   "cell_type": "markdown",
   "metadata": {},
   "source": [
    "### Exercise <font color=\"Crimson\">3-1</font>\n",
    "**Write code, which outputs a class name of a instance** `1.53`.  "
   ]
  },
  {
   "cell_type": "code",
   "execution_count": null,
   "metadata": {},
   "outputs": [],
   "source": [
    "#Exercise 3-1\n",
    "\n",
    "print()"
   ]
  },
  {
   "cell_type": "markdown",
   "metadata": {},
   "source": [
    "It is very important to be aware to what class each instance belongs in writing a python code, because behavior of python functions vary by the class of instances.\n",
    "Guess what output you will get from a code below. Here, both `\"1\"` and `\"2\"` are string class instances. "
   ]
  },
  {
   "cell_type": "code",
   "execution_count": null,
   "metadata": {},
   "outputs": [],
   "source": [
    "print(\"1\" + \"2\")"
   ]
  },
  {
   "cell_type": "code",
   "execution_count": null,
   "metadata": {},
   "outputs": [],
   "source": [
    "# Run this cell.\n",
    "print(\"1\" * \"2\")"
   ]
  },
  {
   "cell_type": "markdown",
   "metadata": {},
   "source": [
    "You'll get an error. This is because a string instance cannot be multiplied by a string instance."
   ]
  },
  {
   "cell_type": "markdown",
   "metadata": {},
   "source": [
    "### Exercise <font color=\"Crimson\">3-2</font>\n",
    "`print()` function can accept multiple values seperated by commas and outputs combination of those values separated by spaces. A code `print(\"Tohoku\", \"university\")` will outputs `Tohoku university`.\n",
    "\n",
    "Using this, **write code, which outputs two values, one is** `\"Result of 121 * 33 is\"`**, another one is result of** `121 * 33`**.** Execution result should be `Result of 121 * 33 is 3993`."
   ]
  },
  {
   "cell_type": "code",
   "execution_count": null,
   "metadata": {},
   "outputs": [],
   "source": [
    "#Example\n",
    "print()"
   ]
  },
  {
   "cell_type": "code",
   "execution_count": null,
   "metadata": {},
   "outputs": [],
   "source": [
    "#Exercise 3-2\n",
    "\n",
    "print()"
   ]
  },
  {
   "cell_type": "markdown",
   "metadata": {},
   "source": [
    " "
   ]
  },
  {
   "cell_type": "markdown",
   "metadata": {},
   "source": [
    "# <font color=\"Crimson\">4</font>&nbsp;<font color=\"silver\">|</font> &nbsp;Variables"
   ]
  },
  {
   "cell_type": "markdown",
   "metadata": {},
   "source": [
    "## 4.1 | <font color=\"Crimson\">Assign a Value in Variable"
   ]
  },
  {
   "cell_type": "markdown",
   "metadata": {},
   "source": [
    "With knowledge we learned so far, let's write a code to calculate total price of goods from a grocery store.\n",
    "You are going to buy an apple, two oranges and three avocados. Prices are 100 yen, 70 yen and 130 yen for an apple, an orange and an avocado, respectively. Below is an example code to calculate total price of those goods."
   ]
  },
  {
   "cell_type": "code",
   "execution_count": null,
   "metadata": {},
   "outputs": [],
   "source": [
    "apple_price = 100\n",
    "orange_price = 70\n",
    "avocado_price = 130\n",
    "\n",
    "total_price = apple_price * 1  + orange_price * 2 +  avocado_price * 3 \n",
    "\n",
    "print(total_price)"
   ]
  },
  {
   "cell_type": "markdown",
   "metadata": {},
   "source": [
    "Think what is happening here.\n",
    "\n",
    "For example, after the line `apple_price = 100`,  `apple_price` behaves as an integer `100`. Similarly, `orange_price` and `avocado_price` behave as `70` and `130`, respectively. This means that a line `apple_price = 100` assigns `100` to `apple_price`. Hereafter `apple_price` is treated as `100`. \n",
    "\n",
    "Here, `apple_price`, `orange_price` and `avocado_price`  are not strings but are something called **variables**. In programing languages, values are usually assigned into variables. Variables make programing codes easy-to-read and easy-to-modify.\n",
    "\n",
    "The line \n",
    "\n",
    "`total_price = ( apple_price * 1 ) + ( orange_price * 2 ) + ( avocado_price * 3 )` \n",
    "\n",
    "equals \n",
    "\n",
    "`total_price = ( 100 * 1 ) + ( 70 * 2 ) + ( 130 * 3 )`\n",
    "\n",
    "By this line, a result of the right side expression is assigned to a variable `total_price`. And the `print(total_price)` outputs the total price of those goods."
   ]
  },
  {
   "cell_type": "markdown",
   "metadata": {},
   "source": [
    "### Exercise <font color=\"Crimson\">4-1</font>\n",
    "\n",
    "By using variables, **make a code that calculates a total value of following items.**\n",
    "- 3 cups of coffee (300 yen per cup)\n",
    "- 1 cup of tea (300 yen per cup)\n",
    "- 1 cup of cappuccino (400 yen per cup)\n",
    "- 2 cups of mocha cookie frappuccino (550 yen per cup)"
   ]
  },
  {
   "cell_type": "code",
   "execution_count": null,
   "metadata": {},
   "outputs": [],
   "source": [
    "#Exercise 4-1\n",
    "\n",
    "\n"
   ]
  },
  {
   "cell_type": "markdown",
   "metadata": {},
   "source": [
    "## 4.2 | <font color=\"Crimson\">Characters that cannot be used in variables.\n",
    "\n",
    "Many characters can be used in variable names, but variable names that start with a number cannot be used.\n",
    "\n",
    "For example\n",
    "\n",
    "`140yen = 140`\n",
    "\n",
    "If you write like this, an error occurs. Also, python comes with some words that have special meanings. This is called a reserved word and will result in an error if used as a variable name.\n",
    "\n",
    "Examples of reserved words:\n",
    "```\n",
    "['False', 'None', 'True', 'and', 'as', 'assert', 'break', 'class', 'continue',\n",
    " 'def', 'del', 'elif', 'else', 'except', 'finally', 'for', 'from', 'global',\n",
    " 'if', 'import', 'in', 'is', 'lambda', 'nonlocal', 'not', 'or', 'pass', 'raise',\n",
    " 'return', 'try', 'while', 'with', 'yield']\n",
    "```\n"
   ]
  },
  {
   "cell_type": "code",
   "execution_count": null,
   "metadata": {},
   "outputs": [],
   "source": [
    "# Run this cell and notice the error.\n",
    "140yen = 140"
   ]
  },
  {
   "cell_type": "code",
   "execution_count": null,
   "metadata": {},
   "outputs": [],
   "source": [
    "# Run this cell and notice the error.\n",
    "lambda = 5"
   ]
  },
  {
   "cell_type": "markdown",
   "metadata": {},
   "source": [
    "### Exercise <font color=\"Crimson\">4-2</font>\n",
    "\n",
    "Taro really likes walking and he is planning to walk from Kobe to Sendai. Assuming that Taro's walking speed is 5 km/hr and Kobe-Sendai is 860 km, write a code that calculates the time it takes for Taro to walk between Kobe and Sendai.\n",
    "\n",
    "Make sure that the answer looks like `Taro will need XXX hours`."
   ]
  },
  {
   "cell_type": "code",
   "execution_count": null,
   "metadata": {},
   "outputs": [],
   "source": [
    "#Exercise 4-2\n",
    "\n",
    "\n"
   ]
  },
  {
   "cell_type": "markdown",
   "metadata": {},
   "source": [
    " "
   ]
  },
  {
   "cell_type": "markdown",
   "metadata": {},
   "source": [
    "# <font color=\"Crimson\">5</font>&nbsp;<font color=\"silver\">|</font> &nbsp;String"
   ]
  },
  {
   "cell_type": "markdown",
   "metadata": {},
   "source": [
    "## 5.1 | <font color=\"Crimson\">Special Characters"
   ]
  },
  {
   "cell_type": "markdown",
   "metadata": {},
   "source": [
    "As mentioned before, characters enclosed in quotation marks (`\"` and `'`) in the code are recognized as string objects.\n",
    "\n",
    "If you want to use quotes in the string, you can avoid the end of the string by typing a backslash \\ before the quotes."
   ]
  },
  {
   "cell_type": "code",
   "execution_count": null,
   "metadata": {},
   "outputs": [],
   "source": [
    "# Run this cell.\n",
    "print(\"This university is named \\\"Tohoku University\\\".\")"
   ]
  },
  {
   "cell_type": "markdown",
   "metadata": {},
   "source": [
    "In this way, special characters can be expressed in the string object by combining backslash and other characters.\n",
    "\n",
    "This is called an escape sequence.\n",
    "\n",
    "The typical one\n",
    "\n",
    "* `\\t` : tab\n",
    "* `\\n` : line feed\n",
    "* `\\\" ` : double quotation\n",
    "* `\\'` : single quotation\n",
    "* `\\\\` : backslash\n",
    "\n",
    "For more information, try a web search with the python escape sequence."
   ]
  },
  {
   "cell_type": "code",
   "execution_count": null,
   "metadata": {},
   "outputs": [],
   "source": [
    "print(\"If \\t is entered in the string object, \\t can be expressed like this. \\n Also, if you enter \\\\n, it will be a line break like this.\\\\nss\\nss\")"
   ]
  },
  {
   "cell_type": "markdown",
   "metadata": {},
   "source": [
    "### Exercise <font color=\"Crimson\">5-1\n",
    "**Write a code that has the following output:**\n",
    "```\n",
    "He said, 'One'  \"Two\"  'Three'.\n",
    "```"
   ]
  },
  {
   "cell_type": "code",
   "execution_count": null,
   "metadata": {},
   "outputs": [],
   "source": [
    "#Exercise 5-1\n",
    "\n",
    "print()"
   ]
  },
  {
   "cell_type": "markdown",
   "metadata": {},
   "source": [
    "### Exercise <font color=\"Crimson\">5-2\n",
    "**Write a code that has the following output:**\n",
    "```\n",
    "Once upon a time\n",
    "  There's a princess living in a castle\n",
    "    Her name is \"Princess Peach\"\n",
    "```"
   ]
  },
  {
   "cell_type": "code",
   "execution_count": null,
   "metadata": {},
   "outputs": [],
   "source": [
    "#Exercise 5-2\n",
    "print()"
   ]
  },
  {
   "cell_type": "markdown",
   "metadata": {},
   "source": [
    "## 5.2 | <font color=\"Crimson\">Converting `int` to `string`"
   ]
  },
  {
   "cell_type": "markdown",
   "metadata": {},
   "source": [
    "When outputting a character string from the code, you may want to convert the instance defined/generated in the code into a character string and output it with any character string.\n",
    "\n",
    "For example, if Lisa's height is 160cm, that value is assigned to a variable, and you want the output to be `Lisa's height is 160cm.`, this can be done using the print () function."
   ]
  },
  {
   "cell_type": "code",
   "execution_count": null,
   "metadata": {},
   "outputs": [],
   "source": [
    "height = 160\n",
    "print(\"Lisa's height is\", height, \"cm.\")"
   ]
  },
  {
   "cell_type": "markdown",
   "metadata": {},
   "source": [
    "However, this will cause an extra space between the concatenated strings and values.\n",
    "\n",
    "Another method is to use the `str()` function. The `str()` function converts a given instance into a string.\n",
    "\n",
    "For example, `str(10)` is not the numeric value 10 but the same as the string `10`. If the variable height of the above code is converted to a string, all instances that you want to output will be strings, so you can concatenate the strings with `+`."
   ]
  },
  {
   "cell_type": "code",
   "execution_count": null,
   "metadata": {},
   "outputs": [],
   "source": [
    "height = 160\n",
    "print(\"Lisa's height is \" + str(height) + \"cm.\")\n",
    "\n",
    "height_str = str(160)\n",
    "print(\"Lisa's height is \" + height_str + \"cm.\")"
   ]
  },
  {
   "cell_type": "markdown",
   "metadata": {},
   "source": [
    "### Exercise <font color=\"Crimson\">5-3\n",
    "Complete the following code so that it has the following output:\n",
    "```\n",
    "Lisa's height is 160cms and her weight is 55kgs.\n",
    "```"
   ]
  },
  {
   "cell_type": "code",
   "execution_count": null,
   "metadata": {},
   "outputs": [],
   "source": [
    "#Exercise 5-3\n",
    "\n",
    "name = \"Lisa\"\n",
    "height = 160\n",
    "weight = 55\n",
    "print()"
   ]
  },
  {
   "cell_type": "markdown",
   "metadata": {},
   "source": [
    "## 5.3 | <font color=\"Crimson\">Embedding of Variable using `.format()`"
   ]
  },
  {
   "cell_type": "code",
   "execution_count": null,
   "metadata": {},
   "outputs": [],
   "source": [
    "height = 160\n",
    "print(\"Lisa's height is {}cm.\".format(height))\n",
    "\n",
    "# You can also do this.\n",
    "height = 160\n",
    "output_str = \"Lisa's height is {}cm.\".format(height)\n",
    "print(output_str)"
   ]
  },
  {
   "cell_type": "markdown",
   "metadata": {},
   "source": [
    "In this way, when multiple instances are given to `.format()`, it is necessary to specify the position of the instance to be called in {} of the string.\n",
    "\n",
    "In that case, the position of the instance is counted as 0, 1, 2, ... from the top. In python, the position of an instance is called an index.\n",
    "\n",
    "By expanding the variable within the string, you can change the output by simply changing the variable contents."
   ]
  },
  {
   "cell_type": "code",
   "execution_count": null,
   "metadata": {},
   "outputs": [],
   "source": [
    "value = 160\n",
    "name=\"Lisa\"\n",
    "feature=\"height\"\n",
    "print(\"{0}'s {1} is {2}cm.\".format(name, feature, value))\n",
    "\n",
    "value = 174\n",
    "name=\"Taro\"\n",
    "feature=\"height\"\n",
    "print(\"{0}'s {1} is {2}cm.\".format(name, feature, value))\n",
    "print(\"{1}'s {0} is {1}cm.\".format(name, feature, value))"
   ]
  },
  {
   "cell_type": "code",
   "execution_count": null,
   "metadata": {},
   "outputs": [],
   "source": [
    "# You can also reuse instances of the same index.\n",
    "\n",
    "name=\"Taro\"\n",
    "feature=\"height\"\n",
    "value = 174\n",
    "print(\"{0}'s {1} is {2}cm. We don't know {0}'s weight.'\".format(name, feature, value))"
   ]
  },
  {
   "cell_type": "markdown",
   "metadata": {},
   "source": [
    "### Exercise <font color=\"Crimson\">5-4\n",
    "Complete the code so it has the following output:\n",
    "```\n",
    "Lisa and Taro are Mr. Tanaka's children. Lisa was born first, but now Taro is taller than Lisa by 5cms.\n",
    "```\n"
   ]
  },
  {
   "cell_type": "code",
   "execution_count": null,
   "metadata": {},
   "outputs": [],
   "source": [
    "#Exercise 5-4\n",
    "first_kid =\"Lisa\"\n",
    "second_kid =\"Taro\"\n",
    "first_kid_height = 160\n",
    "second_kid_height = 165\n",
    "\n",
    "print()"
   ]
  },
  {
   "cell_type": "markdown",
   "metadata": {},
   "source": [
    "## 5.4 | <font color=\"Crimson\">Decimal Places Using `.format()`\n",
    "`.format()` can also be used in the following way."
   ]
  },
  {
   "cell_type": "code",
   "execution_count": null,
   "metadata": {},
   "outputs": [],
   "source": [
    "value=12\n",
    "print(\"{0:.2f}\".format(value))\n",
    "\n",
    "value=3.1293834823\n",
    "print(\"{:.4f}\".format(value)) # notice \":\", what if print(\"{.4f}\".format(value)) ? why?"
   ]
  },
  {
   "cell_type": "markdown",
   "metadata": {},
   "source": [
    "If you write like `: .2f` after the index in `{}` of the character string, you can output it as a decimal number specifying the decimal places."
   ]
  },
  {
   "cell_type": "code",
   "execution_count": null,
   "metadata": {},
   "outputs": [],
   "source": [
    "float1 = 1 / 3\n",
    "print(float1)\n",
    "integer1 = 2\n",
    "print(integer1)\n",
    "\n",
    "print(\"By using .format(), the number will be shown like this: {0:.3f}\".format(float1))\n",
    "print(\"By using .format(), the number will be shown like this: {0:.3f}\".format(integer1))"
   ]
  },
  {
   "cell_type": "markdown",
   "metadata": {},
   "source": [
    "### Exercise <font color=\"Crimson\">5-5\n",
    "Calculate `7/13` three times so it has the following result:\n",
    "```\n",
    "0.538\n",
    "0.53846\n",
    "0.53846154\n",
    "```"
   ]
  },
  {
   "cell_type": "code",
   "execution_count": null,
   "metadata": {},
   "outputs": [],
   "source": [
    "#Exercise 5-5\n",
    "number = 7/13\n",
    "\n"
   ]
  },
  {
   "cell_type": "markdown",
   "metadata": {},
   "source": [
    "## 5.5 | <font color=\"Crimson\">Placeholders `%s` `%f` and `%d`"
   ]
  },
  {
   "cell_type": "markdown",
   "metadata": {},
   "source": [
    "The `%s` acts a placeholder for a **string** while `%d` acts as a placeholder for an **integer** and `%f` is to replace a **float**. \\\n",
    "The associated values of them are then passed in through a tuple using the `%` operator."
   ]
  },
  {
   "cell_type": "code",
   "execution_count": null,
   "metadata": {},
   "outputs": [],
   "source": [
    "name1 = 'marcog'\n",
    "number1 = 42\n",
    "number2 = 33.3678\n",
    "print('%s %d %.3f' % (name1, number1, number2))\n",
    "print('%s %d%s' % (\"we have a class at\", 4, \"pm\"))"
   ]
  },
  {
   "cell_type": "markdown",
   "metadata": {},
   "source": [
    "## 5.5 | <font color=\"Crimson\">Format specifications and `f-strings`"
   ]
  },
  {
   "cell_type": "markdown",
   "metadata": {},
   "source": [
    "As with the `format()` method of `str`, various formats can be specified for f-strings by specifying a format specification string after the colon `:` in`{}`."
   ]
  },
  {
   "cell_type": "code",
   "execution_count": null,
   "metadata": {},
   "outputs": [],
   "source": [
    "s = 'abc'\n",
    "\n",
    "print(f'right : {s:*>8}')\n",
    "print(f'center: {s:*^8}')\n",
    "print(f'left  : {s:*<8}')\n",
    "# right : *****abc\n",
    "# center: **abc***\n",
    "# left  : abc*****"
   ]
  },
  {
   "cell_type": "code",
   "execution_count": null,
   "metadata": {},
   "outputs": [],
   "source": [
    "i = 1234567890\n",
    "print(f'comma: {i:,}')"
   ]
  },
  {
   "cell_type": "code",
   "execution_count": null,
   "metadata": {},
   "outputs": [],
   "source": [
    "i = 1234\n",
    "print(f'zero padding: {i:08}')"
   ]
  },
  {
   "cell_type": "code",
   "execution_count": null,
   "metadata": {},
   "outputs": [],
   "source": [
    "f = 0.123\n",
    "print(f'percent: {f:.2%}')"
   ]
  },
  {
   "cell_type": "code",
   "execution_count": null,
   "metadata": {},
   "outputs": [],
   "source": [
    "f = 12.3456\n",
    "print(f'exponent(lower): {f:.3e}')\n",
    "print(f'exponent(upper): {f:.3E}')"
   ]
  },
  {
   "cell_type": "code",
   "execution_count": null,
   "metadata": {},
   "outputs": [],
   "source": [
    "a = 123456\n",
    "print(\"Today's earning is {:,}yen\".format(a))\n",
    "print(f\"Today's earning is {a:,}yen\")"
   ]
  },
  {
   "cell_type": "markdown",
   "metadata": {},
   "source": [
    "### Exercise <font color=\"Crimson\">5-6\n",
    "Use three ways (`.format()`, `%s %f %d`, `f`) to complete the code so it has the following output:\n",
    "```\n",
    "I'm Alex, I am 19 and my subject mark is 27.56\n",
    "```"
   ]
  },
  {
   "cell_type": "code",
   "execution_count": null,
   "metadata": {},
   "outputs": [],
   "source": [
    "#Exercise 5-6\n",
    "name = \"Alex\"\n",
    "age = 19\n",
    "mark = 27.562222\n",
    "\n",
    "print(\"\".format())\n",
    "print(f\"\")\n",
    "print(\"\" % )"
   ]
  },
  {
   "cell_type": "markdown",
   "metadata": {},
   "source": [
    "# <font color=\"Crimson\">6</font>&nbsp;<font color=\"silver\">|</font> &nbsp;If Statement"
   ]
  },
  {
   "cell_type": "markdown",
   "metadata": {},
   "source": [
    "## 6.1 | <font color=\"Crimson\">Standard `if` Statement\n",
    "  \n",
    "Now, you will learn about conditional branching syntax that branches processing according to conditions, and repeated syntax that repeats processing under certain conditions. The syntax that controls the flow of a program based on these conditions is collectively called control syntax.\n",
    "\n",
    "First, I will introduce a statement that uses the conditional branch syntax if. The basic structure of an if statement is as follows:\n",
    "\n",
    "```\n",
    "if [condition]: \n",
    "    [Process when condition is True]\n",
    "else:\n",
    "    [Process when condition is False]\n",
    "```\n",
    "     \n",
    "A conditional expression is given after `if`, and the processing to be performed when the condition is correct (True) and the processing to be performed when the condition is incorrect (False) are described separately. A simple example is given below."
   ]
  },
  {
   "cell_type": "code",
   "execution_count": null,
   "metadata": {},
   "outputs": [],
   "source": [
    "print(\"Example 1\")\n",
    "x = 9\n",
    "if x > 0:\n",
    "  print(\"x is greater than 0.\")\n",
    "else:\n",
    "  print(\"x is at most 0.\")\n",
    "  \n",
    "# Another example\n",
    "print(\"Example 2\")\n",
    "x = -2\n",
    "if x > 0:\n",
    "  print(\"x is greater then 0.\")\n",
    "else:\n",
    "  print(\"x is at most 0.\")"
   ]
  },
  {
   "cell_type": "code",
   "execution_count": null,
   "metadata": {},
   "outputs": [],
   "source": [
    "x = 0\n",
    "if x > 0:\n",
    "  print(\"x is greater than 0.\")\n",
    "  result = x + 12\n",
    "  print(\"The value of x + 12 is {}\".format(result))\n",
    "else:\n",
    "  print(\"x is at most 0.\")\n",
    "  result = x - 23\n",
    "  print(\"The value of x - 23 is {}\".format(result))"
   ]
  },
  {
   "cell_type": "markdown",
   "metadata": {},
   "source": [
    "Here is a very important point in how to write python.\n",
    "```\n",
    "if [condition]:\n",
    "     [A. Process when the condition is True]\n",
    "else:\n",
    "     [B. Process when the condition is False]\n",
    "```\n",
    "In the above formula, process A is executed when `if` is true, and process B is executed when `else` is true. In other words, `if` and process `A`, `else` and process `B` can be thought of as independent pieces of code. \n",
    "\n",
    "In python, this group of codes is expressed using indentation. In addition, the rule is to put a colon(`:`) at the end of an `if` or `else` statement.\n",
    "\n",
    "In general, it is recommended to indent four spaces, but two spaces and tabs can also be used.\n",
    "\n",
    "<img src=\"http://gp-ds.tohoku.ac.jp/class/skillup_2019b/files/python_block.png\" width=\"400\">\n",
    "\n",
    "The important thing is to unify the type of indentation in the code.\n",
    "\n",
    "If the indentation type is not unified as shown below, an error will occur."
   ]
  },
  {
   "cell_type": "code",
   "execution_count": null,
   "metadata": {},
   "outputs": [],
   "source": [
    "# example\n",
    "x = 3\n",
    "if x > 0:\n",
    "  print(\"x is greater than 0.\") # 4-space indent\n",
    "  result = x + 12          # 2-space indent\n",
    "  print(\"The value of x + 12 is {}\".format(result))     # 2-space indent"
   ]
  },
  {
   "cell_type": "markdown",
   "metadata": {},
   "source": [
    "In conclusion, remember the following when writing control syntax:\n",
    "\n",
    "* **Don't forget the colon and indent**\n",
    "* **Unify indentation types**\n",
    "\n",
    "*By the way, if you create code in this Google Colaboratory (Jupyter Notebook) environment, the automatic indent function works, so you don't have to enter the indent yourself.*"
   ]
  },
  {
   "cell_type": "code",
   "execution_count": null,
   "metadata": {},
   "outputs": [],
   "source": [
    "# example\n",
    "# if x > 20, print(\"I am an adult\"); if x > 10, print(\"I am a teenage\")\n",
    "# that is to say (10, 20) is teenage, and >20 is adult\n",
    "\n",
    "# see the code:\n",
    "x = 21\n",
    "if x > 10:\n",
    "    print(\"I am a teenage.\") \n",
    "if x > 20:\n",
    "    print(\"I am an adult\")\n",
    "else:\n",
    "    print(\"I am a kid.\")\n",
    "    \n",
    "# see the code:\n",
    "print(\"-\"*30)\n",
    "x = 21\n",
    "if x > 10:\n",
    "    print(\"I am a teenage.\") \n",
    "elif x > 20: # else if\n",
    "    print(\"I am an adult.\")\n",
    "else:\n",
    "    print(\"I am a kid.\")"
   ]
  },
  {
   "cell_type": "markdown",
   "metadata": {},
   "source": [
    "### Exercise <font color=\"Crimson\">6-1\n",
    "\n",
    "**Make an `if` statement that print \"`x` is even\" or \"`x` is not even\". Do the same for `y`.**"
   ]
  },
  {
   "cell_type": "code",
   "execution_count": null,
   "metadata": {},
   "outputs": [],
   "source": [
    "#Exercise 6-1\n",
    "x = 21\n",
    "y = 12\n",
    "if  :\n",
    "    print(\"x is even\")\n",
    "else:\n",
    "    print(\"x is not even\")\n",
    "\n",
    "if  :\n",
    "    print(\"y is even\")\n",
    "else:\n",
    "    print(\"y is not even\")"
   ]
  },
  {
   "cell_type": "markdown",
   "metadata": {},
   "source": [
    "## 6.2 | <font color=\"Crimson\">Comparison Operation</font>\n",
    "\n",
    "In the `if` statement, it is essential to present a conditional expression that is the basis for branching. (`x>0` in the previous formula)\n",
    "The basis of such comparison expressions is the comparison operator.\n",
    "\n",
    "Main comparison operators\n",
    "\n",
    "| Operator | description |\n",
    ":-: |-|\n",
    "| == | Left side is equal to right side\n",
    "|! = | The left side is not equal to the right side\n",
    "| <| The left side is smaller than the right side\n",
    "| <= | The left side is less than or equal to the right side\n",
    "|> | The left side is larger than the right side\n",
    "| >= | The left side is larger than or equal to the right side\n",
    "\n",
    "The equivalent of the equal sign (=) used in mathematics is `==`. Be careful not to confuse it with the \"`=`\" used in assignments."
   ]
  },
  {
   "cell_type": "code",
   "execution_count": null,
   "metadata": {},
   "outputs": [],
   "source": [
    "print(\"Example 1\")\n",
    "x = 3\n",
    "if x != 5:\n",
    "    print(\"x is not equal to 5\")\n",
    "\n",
    "print(\"Example 2\")\n",
    "x = 3\n",
    "if x <= 3:\n",
    "    print(\"x is less than or equal to 3\")"
   ]
  },
  {
   "cell_type": "markdown",
   "metadata": {},
   "source": [
    "When the comparison operation is executed, the value True or False is returned. Try running the code below."
   ]
  },
  {
   "cell_type": "code",
   "execution_count": null,
   "metadata": {},
   "outputs": [],
   "source": [
    "2 == 4"
   ]
  },
  {
   "cell_type": "markdown",
   "metadata": {},
   "source": [
    "The returned value is an instance of a type called bool type."
   ]
  },
  {
   "cell_type": "code",
   "execution_count": null,
   "metadata": {},
   "outputs": [],
   "source": [
    "print(type(True))"
   ]
  },
  {
   "cell_type": "markdown",
   "metadata": {},
   "source": [
    "Basically, `if` executes by executing the given comparison expression and receiving the obtained instance of bool type.\n",
    "\n",
    "In other words, if a bool type instance (True or False) is directly given to `if` as shown below, the if-statement will be executed without any problem."
   ]
  },
  {
   "cell_type": "code",
   "execution_count": null,
   "metadata": {},
   "outputs": [],
   "source": [
    "2 == 4\n",
    "if False:\n",
    "    print (\"This is True.\")\n",
    "else:\n",
    "    print (\"This is False.\")"
   ]
  },
  {
   "cell_type": "markdown",
   "metadata": {},
   "source": [
    "### Exercise <font color=\"Crimson\">6-2\n",
    "**Write three if statement that compare a number with 0. The output should be something like \"x is greater than 0\", \"x is greater than 0\", or \"x is less than 0\". Try to change the value for x to see if the code still works.**"
   ]
  },
  {
   "cell_type": "code",
   "execution_count": null,
   "metadata": {},
   "outputs": [],
   "source": [
    "#Exercise 6-2\n",
    "x = 0\n",
    "\n",
    "if x>0:\n",
    "    print(\"x is great than 0\")\n",
    "else:\n",
    "    if x==0:\n",
    "        print(\"x is equal than 0\")\n",
    "    else:\n",
    "        print(\"x is less than 0\")\n"
   ]
  },
  {
   "cell_type": "markdown",
   "metadata": {},
   "source": [
    "## 6.3 | <font color=\"Crimson\">Multiple Conditionals\n",
    "  \n",
    "If there are multiple conditional expressions to be given to `if`, you can use `elif` to create a branch based on multiple conditions.\n",
    "\n",
    "`elif` is described in the form with conditional expression and colon like `if`.\n",
    "\n",
    "```\n",
    "if [condition A]:\n",
    "     [Do this when A is True]\n",
    "elif [condition B]:\n",
    "     [Do this when A is False and B is True]\n",
    "else:\n",
    "     [Do this when both A and B are False]\n",
    "```\n",
    "An arbitrary number of conditional expressions can be handled by adding `elif`.\n",
    "\n",
    "Note that even if the `elif` condition is true, the `if` block processing is always executed if the first conditional expression given with `if` is true.\n",
    "\n",
    "Conditional expressions are evaluated in order from top to bottom, entering the first `True` block, and those that become `False` under all conditions are processed in the `else` block."
   ]
  },
  {
   "cell_type": "code",
   "execution_count": null,
   "metadata": {},
   "outputs": [],
   "source": [
    "# example\n",
    "print(\"example1\")\n",
    "x = 3\n",
    "if x == 5:\n",
    "    print(\"x is equal to 1\")\n",
    "elif x == 3:\n",
    "    print(\"x is equal to 3\")\n",
    "else:\n",
    "    print(\"x is not equal to 1 and 3\")\n",
    "\n",
    "# example 2\n",
    "print(\"example2\")\n",
    "x = 4\n",
    "if x == 5:\n",
    "    print(\"x is equal to 1\")\n",
    "elif x == 3:\n",
    "    print(\"x is equal to 3\")\n",
    "elif x> 4:\n",
    "    print(\"x is greater than 4\")\n",
    "else:\n",
    "    print(\"x is not equal to 1 and 3 and not greater than 4\")"
   ]
  },
  {
   "cell_type": "markdown",
   "metadata": {},
   "source": [
    "### Exercise <font color=\"Crimson\">6-3\n",
    "Similar to the previous example, make a multiple conditionals for an integer `x` so that the outputs are as follows:\n",
    "  \n",
    "\n",
    "*   if x = 0 then \"`x is 0`\"\n",
    "*   if x < 0 then \"`x is negative`\"\n",
    "*   if x > 0 then \"`x is positive`\"\n",
    "  \n",
    "Complete the code and try multiple values of `x` to check whether your code works for any `x`."
   ]
  },
  {
   "cell_type": "code",
   "execution_count": null,
   "metadata": {},
   "outputs": [],
   "source": [
    "# Ex. 6-3\n",
    "x = 7\n",
    "if :\n",
    "    print(\"x is 0\")\n",
    "elif :\n",
    "    print(\"x is positive\")\n",
    "else:\n",
    "    print(\"x is negative\")"
   ]
  },
  {
   "cell_type": "markdown",
   "metadata": {},
   "source": [
    "## 6.4 | <font color=\"Crimson\">Nested `if` statement\n",
    "\n",
    "It is also possible to create an `if` statement within an `if` statement.\n",
    "```\n",
    "if [condition A]:\n",
    "     [Process when A is True]\n",
    "     if [condition C]:\n",
    "         [Process when A and C are True]\n",
    "     else:\n",
    "         [Process when A is True but C is False]\n",
    "         if [condition D]:\n",
    "             [Process when A is True, C is False, and D is True]\n",
    "elif [condition B]:\n",
    "     [Process when A is False and B is True]\n",
    "else:\n",
    "     [Process when A and B are False]\n",
    "```\n",
    "In doing so, it is necessary to pay attention to the indentation depth (level) in order to clarify which part of the code belongs to which block."
   ]
  },
  {
   "cell_type": "code",
   "execution_count": null,
   "metadata": {},
   "outputs": [],
   "source": [
    "# example\n",
    "x = 9\n",
    "if x > 5:\n",
    "    if x == 6:\n",
    "        print(\"x is greater than 5 and equals 6.\")\n",
    "    else:\n",
    "        print(\"x is greater than 5 but not 6.\")\n",
    "else:\n",
    "    print(\"x is not greater than 5.\")"
   ]
  },
  {
   "cell_type": "markdown",
   "metadata": {},
   "source": [
    "### Exercise <font color=\"Crimson\">6-4\n",
    "Similar to the previous exercise, make a multiple conditionals for an integer `x` so that the outputs are as follows:\n",
    "  \n",
    "\n",
    "*   if x = 0 then \"`x is 0`\"\n",
    "*   if x < 0 and x is even then \"`x is even negative`\". If x < 0 and x is odd then \"`x is odd negative`\"\n",
    "*   if x > 0 and x is even then \"`x is even positive`\". If x > 0 and x is odd then \"`x is odd positive`\"\n",
    "  \n",
    "Complete the code and try multiple values of `x` to check whether your code works for any `x`.\n",
    "  \n",
    "Hint: Use `x % 2 == 0` to check whether `x` is an even number."
   ]
  },
  {
   "cell_type": "code",
   "execution_count": null,
   "metadata": {},
   "outputs": [],
   "source": [
    "#Exercise 6-4\n",
    "\n",
    "x=-9\n",
    "if x>0:\n",
    "    if x%2==0:\n",
    "        print(\"x is even positive\")\n",
    "    else:\n",
    "        print(\"x is odd positive\")\n",
    "elif\n",
    "\n",
    "else\n"
   ]
  },
  {
   "cell_type": "markdown",
   "metadata": {},
   "source": [
    "## 6.5 | <font color=\"Crimson\">Statement `and` & `or`\n",
    "\n",
    "It is possible to make more complex conditions by connecting multiple conditional expressions with and and or.\n",
    "\n",
    "| Conditional Expression | Description |\n",
    "|:-: |-|\n",
    "| Conditional expression A **and** conditional expression B | conditional expressions A and B **both return True only `if` True**\n",
    "Conditional expression A **or** Conditional expression B | Returns True only if either conditional expression A or B **is True**\n",
    "\n",
    "`And` and `or` are operators that take two conditional expressions, evaluate the combination of the operation results (bool value: True or False), and return one of the bool values.\n",
    "\n",
    "These are called bool operators.\n",
    "```\n",
    "if [condition A] and [condition B]:\n",
    "     [Process when A is True and B is True]\n",
    "elif [condition A] or [condition B]:\n",
    "     [Process when A is True or B is True]\n",
    "else:\n",
    "     [Processing when A and B are False]\n",
    "```"
   ]
  },
  {
   "cell_type": "code",
   "execution_count": null,
   "metadata": {},
   "outputs": [],
   "source": [
    "# example\n",
    "print (\"example 1\")\n",
    "x = 100\n",
    "if x> 30 and x <200: # try $\n",
    "    print (\"x is greater than 30 and less than 200\") # & in STATA\n",
    "    \n",
    "# example 2\n",
    "print (\"example 2\")\n",
    "x = 100\n",
    "if (x> 30) or (x == 1): # try |\n",
    "    print (\"x is greater than 30 or equal to 1\") # | in STATA"
   ]
  },
  {
   "cell_type": "markdown",
   "metadata": {},
   "source": [
    "There is also a `not` bool operator in addition to `and` and `or`.\n",
    "\n",
    "`not` returns False if the following conditional expression is True, and True if it is False."
   ]
  },
  {
   "cell_type": "code",
   "execution_count": null,
   "metadata": {},
   "outputs": [],
   "source": [
    "# example 1\n",
    "print (\"example 1\")\n",
    "x = 100\n",
    "if not x == 30:\n",
    "    print (\"x is not equal to 30\")\n",
    "    \n",
    "# example 2\n",
    "print (\"example 2\")\n",
    "x = 100\n",
    "if not x != 100:\n",
    "    print (\"x is equal to 100\")"
   ]
  },
  {
   "cell_type": "markdown",
   "metadata": {},
   "source": [
    "Normal operators had priority. For example, if `+` (addition) and `*` (integration) are present at the same time, `*` (integration) has priority.\n",
    "\n",
    "The bool operator also has priority. If multiple bool operators are used in a conditional expression, they are evaluated in the order **not > and > or**.\n",
    "\n",
    "```\n",
    "\n",
    "[Expression resulting True] or [Expression resulting True] and [Expression resulting False]\n",
    "\n",
    "```\n",
    "\n",
    "In the above example, if the expressions are evaluated sequentially from the right, the overall evaluation result is False.\n",
    "\n",
    "However, since `and` is processed before `or`, the overall evaluation result is True."
   ]
  },
  {
   "cell_type": "code",
   "execution_count": null,
   "metadata": {},
   "outputs": [],
   "source": [
    "# ([True] or [True]) and [False]\n",
    "print ((1> 0 or 2 == 2) and 3 <= 0)"
   ]
  },
  {
   "cell_type": "markdown",
   "metadata": {},
   "source": [
    "### Exercise <font color=\"Crimson\">6-5\n",
    "\n",
    "Using `and` and `or`, write a program that tells a student grade with the following requirements:\n",
    "\n",
    " - A : if `score >= 85` and test is submitted\n",
    " - B : if `70 <= score < 85` and test is submitted\n",
    " - C : if `55 <= score < 70` and test is submitted\n",
    " - D : if `score<55` or test is not submitted\n",
    "                    \n"
   ]
  },
  {
   "cell_type": "code",
   "execution_count": null,
   "metadata": {},
   "outputs": [],
   "source": [
    "# Ex. 6-5\n",
    "score = 99\n",
    "test_submitted = False\n",
    "\n",
    "\n",
    "\n"
   ]
  },
  {
   "cell_type": "markdown",
   "metadata": {},
   "source": [
    " "
   ]
  },
  {
   "cell_type": "markdown",
   "metadata": {},
   "source": [
    "# <font color=\"Crimson\">7</font>&nbsp;<font color=\"silver\">|</font> &nbsp;Iterative Processing - `while` and `for`"
   ]
  },
  {
   "cell_type": "markdown",
   "metadata": {},
   "source": [
    "An indispensable part of programming is the process of repeating the same work many times.\n",
    "\n",
    "In python, it is possible to perform repeated processing with a control syntax using `while` or `for`."
   ]
  },
  {
   "cell_type": "markdown",
   "metadata": {},
   "source": [
    "## 7.1 | <font color=\"Crimson\">Iterative - `while`\n",
    "`while` repeats an arbitrary process written in a block while a given conditional expression is true.\n",
    "```\n",
    "while [condition]:\n",
    "     [Repeat while True]\n",
    "```\n",
    "For example, a `while` statement that “prints i only while the value assigned to the variable i is less than 10” works as follows."
   ]
  },
  {
   "cell_type": "code",
   "execution_count": null,
   "metadata": {},
   "outputs": [],
   "source": [
    "i = 0\n",
    "while i < 10:\n",
    "    print(i)\n",
    "    i += 1 # i += 1 is short for i = i + 1 \n",
    "else:\n",
    "    print(\"we stop\")"
   ]
  },
  {
   "cell_type": "markdown",
   "metadata": {},
   "source": [
    "In the above code, the integer 0 is first assigned to `i` as input to the while statement.\n",
    "\n",
    "Last block\n",
    "```\n",
    "i + = 1\n",
    "```\n",
    "is doing the work of \"reassigning by adding 1 to the value currently assigned to i\". Works the same as `i = i + 1`.\n",
    "\n",
    "`i` with integer 1 added is evaluated by the conditional expression given to `while` again, and then it goes into the `while` block.\n",
    "\n",
    "Eventually, 10 is assigned to i, but in this case `i<10` does not hold, so the process ends without entering the block."
   ]
  },
  {
   "cell_type": "markdown",
   "metadata": {},
   "source": [
    "**Watch out for infinite loops!**\n",
    "\n",
    "In the above example, the value of `i` changes each time the block is processed.\n",
    "\n",
    "However, if the code does not change the value of `i` in the block, the conditional expression given to while will continue to be true, so the block processing will continue indefinitely.\n",
    "\n",
    "This is one of the most common mistakes for beginners of programming, so when using the while statement, make sure that there is no possibility of an infinite loop before executing it."
   ]
  },
  {
   "cell_type": "markdown",
   "metadata": {},
   "source": [
    "In the `while` statement, like the `if` statement, you can set the process to be executed when the condition given using else becomes False.\n",
    "\n",
    "```\n",
    "while [condition]:\n",
    "     [Repeat while True]\n",
    "else:\n",
    "     [Process when condition becomes False]\n",
    "```\n",
    "In this case, while the conditional expression is true, the upper block is repeated, and when it becomes false, the lower block is executed and then the process ends."
   ]
  },
  {
   "cell_type": "code",
   "execution_count": null,
   "metadata": {},
   "outputs": [],
   "source": [
    "i = 100\n",
    "while i > 80:\n",
    "    print(\"i ({}) is greater than 80.\".format(i))\n",
    "    i -= 1\n",
    "else:\n",
    "    print(\"i ({}) is equal to 80.\".format(i))"
   ]
  },
  {
   "cell_type": "markdown",
   "metadata": {},
   "source": [
    "The `-=` used in the code above is the opposite of `+=` and assigns the value obtained by subtracting the value on the right side from the variable on the left side."
   ]
  },
  {
   "cell_type": "markdown",
   "metadata": {},
   "source": [
    "### Exercise <font color=\"Crimson\">7-1\n",
    "**Write code that outputs \"Hello, world.\" 10 times using the while statement.**"
   ]
  },
  {
   "cell_type": "code",
   "execution_count": null,
   "metadata": {},
   "outputs": [],
   "source": [
    "#Exercise 7-1\n",
    "i=0\n",
    "while    :\n",
    "    print(\"Hello, world.\")\n",
    "\n",
    "  "
   ]
  },
  {
   "cell_type": "markdown",
   "metadata": {},
   "source": [
    "### Exercise <font color=\"Crimson\">7-2\n",
    "**Write code that outputs even numbers from 20 to 39 by combining while and if statements.**\n",
    "```\n",
    "Output result:\n",
    "20\n",
    "22\n",
    "24\n",
    "etc.\n",
    "```\n",
    "\n",
    "**Hint**: You can check whether the number is even by dividing by 2. Example of conditional expression: `[Value to check]% == 0`"
   ]
  },
  {
   "cell_type": "code",
   "execution_count": null,
   "metadata": {},
   "outputs": [],
   "source": [
    "#Exercise 7-2\n",
    "i=20\n",
    "while :\n",
    "\n",
    "  "
   ]
  },
  {
   "cell_type": "markdown",
   "metadata": {},
   "source": [
    "## 7.2 | <font color=\"Crimson\">Iterative - `for`\n",
    "The number of times the `while` statement is repeated varies depending on the condition, but the `for` statement can repeat the process for the specified amount.\n",
    "The basic for statement structure is as follows.\n",
    "```\n",
    "for [variable] in [multiple values for variable]:\n",
    "     [Process to repeat]\n",
    "```\n",
    "For example, the code that puts the numbers from 1 to 5 into the variable `x` and outputs it can be written as follows."
   ]
  },
  {
   "cell_type": "code",
   "execution_count": null,
   "metadata": {},
   "outputs": [],
   "source": [
    "for x in [1, 2, 3, 4, 5]: # a list [ , , ,]\n",
    "  print(\"x is {}\".format(x))"
   ]
  },
  {
   "cell_type": "markdown",
   "metadata": {},
   "source": [
    "In this way, \"multiple values to put in a variable\"\n",
    "```\n",
    "[value1, value2, value3, value4, value5]\n",
    "```\n",
    "It can be expressed by the rule of enclosing it with \"\\[\\]\" (square brackets, square brackets) and separating each value with, (comma).\n",
    "\n",
    "This data format is called a **list**, but you will learn more about lists later.\n",
    "\n",
    "Next, try to output the above code with numbers 20 to 40 in `x`."
   ]
  },
  {
   "cell_type": "code",
   "execution_count": null,
   "metadata": {},
   "outputs": [],
   "source": [
    "for x in [20, 21, 22, 23, 24, 25, 26, 27, 28, 29, 30, 31, 32, 33, 34, 35, 36, 37, 38, 39, 40]:\n",
    "    print(\"x is {}\".format(x))"
   ]
  },
  {
   "cell_type": "markdown",
   "metadata": {},
   "source": [
    "It can be written as above, but writing repeated values in the code one by one is cumbersome.\n",
    "\n",
    "The `range()` function is useful if the value you want to repeatedly put into `x` is a continuous integer or an arithmetic sequence.\n",
    "\n",
    "`range()` is a function used to indicate a range of integers. The basic usage is as follows.\n",
    "```\n",
    "range([Start of range], [End of range], [Amount to increase])\n",
    "```\n",
    "For example, `range(0,10,1)` indicates a range of \"less than 10 starting from 0 and increasing by 1\", and is strictly different, but `[0, 1, 2, 3, 4, 5 , 6, 7, 8, 9] ` will show the same range. Note that number at the “end of the range” is **not included in the range**.\n",
    "\n",
    "The following code is a code that uses the `range()` function to rewrite the code that puts the numbers 20 to 40 above in `x` and outputs them. "
   ]
  },
  {
   "cell_type": "code",
   "execution_count": null,
   "metadata": {},
   "outputs": [],
   "source": [
    "for x in range(20,41,1):\n",
    "    print(\"x is {}\".format(x))"
   ]
  },
  {
   "cell_type": "markdown",
   "metadata": {},
   "source": [
    "If you specify `range (20,40,1)`, 40 is not included in the range, so use `range(20,41,1)`.\n",
    "\n",
    "In addition, if the \"number at the beginning of the range\" and the \"increase amount\" corresponding to `range()` are 0 and 1, respectively, these numbers can be omitted. (However, it is not possible to omit the number at the beginning of the range and give it an increasing amount)\n",
    "\n",
    "Giving two values in `range()` such as `range(2,5)` indicates an integer range of \"less than 5 starting from 2 and increasing by 1\"\n",
    "\n",
    "If only one value is given as in `range(4)`, an integer range of \"less than 4 starting from 0 and increasing by 1\" is shown. This is useful when you want to perform exactly the same process `n` times.\n",
    "\n",
    "For example, if you want to output \"Hello, world.\" 10 times, you can write like this."
   ]
  },
  {
   "cell_type": "code",
   "execution_count": null,
   "metadata": {},
   "outputs": [],
   "source": [
    "for x in range(10):\n",
    "    print(\"Hello, world.\")"
   ]
  },
  {
   "cell_type": "markdown",
   "metadata": {},
   "source": [
    "You can also use code such as `for [variable] in range()`.\n",
    "\n",
    "Code that calculates the sum of numbers from 20 to 50 can be written as follows"
   ]
  },
  {
   "cell_type": "code",
   "execution_count": null,
   "metadata": {},
   "outputs": [],
   "source": [
    "result = 0\n",
    "for i in range(20, 51,1):\n",
    "    result += i\n",
    "print(result)"
   ]
  },
  {
   "cell_type": "markdown",
   "metadata": {},
   "source": [
    "Note: Although the variable is defined with `result = 0` in the first line, if you forget this, the variable `result` is not defined at the time of `result + = i`, which results in an error."
   ]
  },
  {
   "cell_type": "markdown",
   "metadata": {},
   "source": [
    "### Exercise <font color=\"Crimson\">7-3\n",
    "**Write a code that outputs an even number between 0 and 20 using the `for` statement.** Range includes 20"
   ]
  },
  {
   "cell_type": "code",
   "execution_count": null,
   "metadata": {},
   "outputs": [],
   "source": [
    "#Exercise 7-3\n",
    "\n"
   ]
  },
  {
   "cell_type": "markdown",
   "metadata": {},
   "source": [
    "### Exercise <font color=\"Crimson\">7-4\n",
    "**Write a code to list numbers that:**\n",
    "\n",
    "*   Starts at `5`\n",
    "*   Has a difference of `3` between each item\n",
    "* Ends before 15"
   ]
  },
  {
   "cell_type": "markdown",
   "metadata": {},
   "source": [
    "#Exercise 7-4\n",
    "### Exercise <font color=\"Crimson\">7-5\n",
    "Let's write some code to reproduce the Fizz Buzz game.\n",
    "```\n",
    "Fizz Buzz is\n",
    "a language play during long-distance driving and drinking parties in English-speaking countries.\n",
    "The player sits in a circle. The first player says “1”. The next player speaks the next number of the previous player. However, \"Fizz\" must be said instead of a number if it is divisible by 3, \"Buzz\" if it is divisible by 5, and \"Fizz Buzz\" if it is divisible by both.\n",
    "The game proceeds as follows:\n",
    "1, 2, Fizz, 4, Buzz, Fizz, 7, 8, Fizz, Buzz, 11, Fizz, 13, 14, FizzBuzz, 16, 17, Fizz, 19, Buzz, Fizz, 22, 23, Fizz, Buzz, 26, Fizz, 28, 29, FizzBuzz, 31, 32, Fizz, 34, Buzz, Fizz, ...\n",
    "```\n",
    "Source: [https://en.wikipedia.org/wiki/Fizz_Buzz](https://en.wikipedia.org/wiki/Fizz_Buzz)\n",
    "\n",
    "**Write code to do Fizz Buzz with numbers from 1 to 100.** The range includes 100.\n",
    "\n",
    "Execution example:\n",
    "```\n",
    "1\n",
    "2\n",
    "Fizz\n",
    "4\n",
    "Buzz\n",
    "Fizz\n",
    "7\n",
    "8\n",
    "Fizz\n",
    "Buzz\n",
    "11\n",
    "Fizz\n",
    "13\n",
    "14\n",
    "Fizz Buzz\n",
    ".\n",
    ".\n",
    ".\n",
    ".\n",
    "\n",
    "```\n",
    "\n"
   ]
  },
  {
   "cell_type": "code",
   "execution_count": null,
   "metadata": {},
   "outputs": [],
   "source": [
    "# Ex. 7-5\n",
    "\n",
    "\n",
    "\n"
   ]
  },
  {
   "cell_type": "markdown",
   "metadata": {},
   "source": [
    "# <font color=\"Crimson\">8</font>&nbsp;<font color=\"silver\">|</font> &nbsp;List"
   ]
  },
  {
   "cell_type": "markdown",
   "metadata": {},
   "source": [
    "Python has a mechanism that can manage multiple values and variables assigned values.\n",
    "\n",
    "By using these mechanisms, you can write code very efficiently.\n",
    "\n",
    "In other programming languages, you might know lists as something called called arrays ."
   ]
  },
  {
   "cell_type": "markdown",
   "metadata": {},
   "source": [
    "## 8.1 | <font color=\"Crimson\">Writing List\n",
    "A list can be defined by enclosing multiple values in \\[ \\] (square brackets, square brackets) and separating each value with, (comma).\n",
    "\n",
    "You can also assign a list to a variable just like any other value."
   ]
  },
  {
   "cell_type": "code",
   "execution_count": null,
   "metadata": {},
   "outputs": [],
   "source": [
    "my_list = [1,2,3,4]"
   ]
  },
  {
   "cell_type": "markdown",
   "metadata": {},
   "source": [
    "The above code creates a list containing four `int` values `1, 2, 3, 4` and assigns it to the variable `my_list`.\n",
    "\n",
    "The values contained in the list are called **items**.\n",
    "\n",
    "The order and number of elements, and the type of instance to be elements are arbitrary.\n",
    "\n",
    "For example, you can create a list with a mixture of `int`, `float`, and `str` types as shown below."
   ]
  },
  {
   "cell_type": "code",
   "execution_count": null,
   "metadata": {},
   "outputs": [],
   "source": [
    "my_list = [\"one\", 2, \"three\", 4.49, 5]\n",
    "print(my_list)"
   ]
  },
  {
   "cell_type": "markdown",
   "metadata": {},
   "source": [
    "### Exercise <font color=\"Crimson\">8-1\n",
    "**Create a new list called `my_second_list` that contains.**\n",
    "\n",
    "\n",
    "*   The string `'six'`\n",
    "*   The number `7`"
   ]
  },
  {
   "cell_type": "code",
   "execution_count": null,
   "metadata": {},
   "outputs": [],
   "source": [
    "#Exercise 8-1\n",
    "\n"
   ]
  },
  {
   "cell_type": "markdown",
   "metadata": {},
   "source": [
    "## 8.2 | <font color=\"Crimson\">Value in the List\n",
    "  We have seen that the items in a list can be numbers or strings. They can also be other lists!\n",
    "\n",
    "`numbers = [['one', 1], ['two', 2], ['three', 3], ['four', 4]]`"
   ]
  },
  {
   "cell_type": "markdown",
   "metadata": {},
   "source": [
    "Values in the list can be retrieved by specifying their position in the list.\n",
    "\n",
    "The order in the list uses the **index** mentioned above. The index of the position of the first element in the list is 0.\n",
    "```\n",
    "my_list [specific element index]\n",
    "```"
   ]
  },
  {
   "cell_type": "code",
   "execution_count": null,
   "metadata": {},
   "outputs": [],
   "source": [
    "my_list = [\"one\", 2, \"three\", 4.49, 5] # index starts from 0\n",
    "print(my_list[3]) "
   ]
  },
  {
   "cell_type": "markdown",
   "metadata": {},
   "source": [
    "As in the code above, specifying the index `2` will retrieve the third element of the list.\n",
    "\n",
    "It is also possible to create a new list of specified parts by describing the start index and end index as shown below.\n",
    "```\n",
    "my_list [start index: end index]\n",
    "```\n",
    "Note that the element at the end index position is not included, as was the case with the `range()` function."
   ]
  },
  {
   "cell_type": "code",
   "execution_count": null,
   "metadata": {},
   "outputs": [],
   "source": [
    "my_list = [\"one\", 2, \"three\", 4.49, 5]\n",
    "new_list = my_list[0:3] # index = 0, 1, 2\n",
    "print(new_list)"
   ]
  },
  {
   "cell_type": "markdown",
   "metadata": {},
   "source": [
    "In addition, if a negative integer is given as an index, it will be treated as a reverse index.\n",
    "\n",
    "Please check the code below. The index of the last element in the list is -1."
   ]
  },
  {
   "cell_type": "code",
   "execution_count": null,
   "metadata": {},
   "outputs": [],
   "source": [
    "my_list = [\"one\", 2, \"three\", 4.49, 5]\n",
    "print(f\"index -1 : {my_list[-1]}\") # starts from -1\n",
    "print(\"index -4 : {}\".format(my_list[-4])) "
   ]
  },
  {
   "cell_type": "markdown",
   "metadata": {},
   "source": [
    "### Exercise <font color=\"Crimson\">8-2\n",
    "**Try to print elements of index `5` and index `7` of the following `my_list`.**"
   ]
  },
  {
   "cell_type": "code",
   "execution_count": null,
   "metadata": {},
   "outputs": [],
   "source": [
    "#Exercise 8-2\n",
    "my_list = range(2,30,4)\n",
    "print(*my_list)\n"
   ]
  },
  {
   "cell_type": "markdown",
   "metadata": {},
   "source": [
    "### Exercise <font color=\"Crimson\">8-3\n",
    "**Print the first three elements of the following `my_list` list**"
   ]
  },
  {
   "cell_type": "code",
   "execution_count": null,
   "metadata": {},
   "outputs": [],
   "source": [
    "#Exercise 8-3\n",
    "my_list = [\"Ken\", \"Ryu\", \"Honda\", \"Ibuki\", \"Sakura\"]\n",
    "print(*my_list)\n"
   ]
  },
  {
   "cell_type": "markdown",
   "metadata": {},
   "source": [
    "## 8.3 | <font color=\"Crimson\">Combining `for` and list\n",
    "\n",
    "As mentioned in the previous `for` statement section, the list can be combined with the `for` statement to perform the same processing on all elements in order.\n"
   ]
  },
  {
   "cell_type": "code",
   "execution_count": null,
   "metadata": {},
   "outputs": [],
   "source": [
    "my_list = [\"one\", 2, \"three\", 4.49, 5]\n",
    "for i in my_list:\n",
    "    print(i)"
   ]
  },
  {
   "cell_type": "markdown",
   "metadata": {},
   "source": [
    "You can also use the elements in the target list by giving the `for` statement a list of integers corresponding to the index."
   ]
  },
  {
   "cell_type": "code",
   "execution_count": null,
   "metadata": {},
   "outputs": [],
   "source": [
    "my_list = [\"one\", 2, \"three\", 4.49, 5]\n",
    "index_list = [3, 0, 4, 2, 1, 0]\n",
    "for i in index_list:\n",
    "    my_item = my_list[i]\n",
    "    print(\"An item at index {0} of my_list is {1}.\".format(i, my_item))"
   ]
  },
  {
   "cell_type": "markdown",
   "metadata": {},
   "source": [
    "### Exercise <font color=\"Crimson\">8-4\n",
    "**Using negative index and `for` statement, print the following `my_list` from the last element.**"
   ]
  },
  {
   "cell_type": "code",
   "execution_count": null,
   "metadata": {},
   "outputs": [],
   "source": [
    "# Ex. 8-4\n",
    "my_list = [\"one\", 2, \"three\", 4.49, 5]\n",
    "index_list = [ , , , ,] # for example, my_list[3] = my_list[-2], here, the index_list should start with -2\n",
    "for i in index_list:\n",
    "    my_item = my_list[i]\n",
    "    print(\"An item at index {0} of my_list is {1}\".format(i, my_item))\n"
   ]
  },
  {
   "cell_type": "markdown",
   "metadata": {},
   "source": [
    "## 8.4 | <font color=\"Crimson\">Functions that can handle lists</font>\n",
    "\n",
    "List method\n",
    "It is a convenient list for storing multiple values, but if you use a function provided for list type instances (in this case, it is called a method), you can use the list more conveniently. I can.\n",
    "\n",
    "This section refers to the following website: [https://docs.python.org/en/3.5/tutorial/datastructures.html#more-on-lists](https://docs.python.org/ja/3.5/tutorial/datastructures.html#more-on-lists)\n",
    "\n",
    "<span style=\"color:blue\"> Be sure to notice **RETURN** </span>. \\\n",
    "For example:\n",
    "- `list.copy()` can **RETURN**: a new list would be generated\n",
    "- `list.append()` has **no RETURN**: the original list would be changed\n",
    "\n",
    "<span style=\"color:red\"> `list` should be replaced by the variable name of list </span>. \n",
    "- `fruits` is a `list`, then `fruits.append(\"xxx\")` instead of `list.append(\"xxx\")`\n",
    "\n",
    "| Function | Description |\n",
    "| --- | --- |\n",
    "| list **. append (x)** | Adds one element to the end of the list. |\n",
    "| list **. extend (iterable)** | Extends the list by adding all iterable elements to the target list. |\n",
    "| list **. insert (i, x)** | Inserts an element at the specified position. The first argument is the list index, which is inserted immediately before the element with that index. <br> So a.insert (0, x) inserts at the top of the list.\n",
    "list **. remove (x)** | Removes the first element with value x in the list. If there is no corresponding item, an error occurs.\n",
    "| list **. pop ([i])** | Removes the element at the specified position in the list from the list and returns that element. If no index is specified, <br> a.pop () removes and returns the last element in the list. Again, the element is deleted.\n",
    "| list **. clear ()** | Deletes all elements in the list.\n",
    "list **. index (x [, start [, end]])** | Returns the position of the first element with value x in the list as a zero-based index. If there is no such element, ValueError is raised. <br> The optional arguments start and end are interpreted as slice notation and can specify the search range of the list. The returned subscript is not relative to the <br> start argument, but from the beginning of the entire list.\n",
    "| list **. count (x)** | Returns the number of occurrences of x in the list.\n",
    "| list **. sort (key = None, reverse = False)** | Sorts the items in the list using an in-place operation (in place, which replaces the original data with the operation result). Arguments can be used to customize the sorting method. See the description of sorted ().\n",
    "| list **. reverse ()** | Reverses the list elements using an in-place operation.\n",
    "list **. copy ()** | Returns a shallow copy of the list. |\n",
    "\n",
    "\n",
    "Let's take a look at some practical examples of some methods."
   ]
  },
  {
   "cell_type": "code",
   "execution_count": null,
   "metadata": {},
   "outputs": [],
   "source": [
    "fruits = ['orange', 'apple', 'pear', 'banana', 'kiwi', 'apple', 'banana']\n",
    "noreturn = fruits.append(\"New Word\")\n",
    "print(\"--------------------------------Where is 'New Word'????---------------------------------\")\n",
    "print(\"noreturn is: \", noreturn)\n",
    "print(\"fruits is: \", fruits)\n",
    "\n",
    "fruits2 = fruits\n",
    "fruits2.append(\"fruits2\") # we add \"fruits2\" to `fruits2` not `fruits`\n",
    "print(\"----------------------------why the list of fruits is changed?---------------------------------\")\n",
    "print(fruits)\n",
    "\n",
    "fruits3 = fruits.copy()\n",
    "fruits3.append(\"fruits3\") # we add \"fruits3\" to `fruits3` not `fruits`\n",
    "print(\"----------------------------why \\\"fruits3\\\" is not in the list of fruits?---------------------------------\")\n",
    "print(fruits) "
   ]
  },
  {
   "cell_type": "markdown",
   "metadata": {},
   "source": [
    "The `copy()` method returns a new list. It doesn't modify the original list."
   ]
  },
  {
   "cell_type": "code",
   "execution_count": null,
   "metadata": {},
   "outputs": [],
   "source": [
    "fruits = ['orange', 'apple', 'pear', 'banana', 'kiwi', 'apple', 'banana']\n",
    "print(fruits.count('tangerine'))\n",
    "print(fruits.count('apple'))"
   ]
  },
  {
   "cell_type": "code",
   "execution_count": null,
   "metadata": {},
   "outputs": [],
   "source": [
    "print(fruits.index('banana'))"
   ]
  },
  {
   "cell_type": "code",
   "execution_count": null,
   "metadata": {},
   "outputs": [],
   "source": [
    "print(fruits.index('banana', 4))  # Find next banana starting a position 4"
   ]
  },
  {
   "cell_type": "code",
   "execution_count": null,
   "metadata": {},
   "outputs": [],
   "source": [
    "fruits = ['orange', 'apple', 'pear', 'banana', 'kiwi', 'apple', 'banana']\n",
    "fruits.reverse()\n",
    "print(fruits)"
   ]
  },
  {
   "cell_type": "code",
   "execution_count": null,
   "metadata": {},
   "outputs": [],
   "source": [
    "fruits = ['orange', 'apple', 'pear', 'banana', 'kiwi', 'apple', 'banana']\n",
    "fruits.sort()\n",
    "print(fruits)"
   ]
  },
  {
   "cell_type": "code",
   "execution_count": null,
   "metadata": {},
   "outputs": [],
   "source": [
    "fruits = ['orange', 'apple', 'pear', 'banana', 'kiwi', 'apple', 'banana']\n",
    "s = fruits.pop()\n",
    "print(fruits) # cut the last one\n",
    "print(s) # return the last one "
   ]
  },
  {
   "cell_type": "code",
   "execution_count": null,
   "metadata": {},
   "outputs": [],
   "source": [
    "print(fruits)"
   ]
  },
  {
   "cell_type": "markdown",
   "metadata": {},
   "source": [
    "### Exercise <font color=\"Crimson\">8-5\n",
    "**Using `.append()`, add 'peach' and 'plum' to the list of fruits and print the new list.**\n"
   ]
  },
  {
   "cell_type": "code",
   "execution_count": null,
   "metadata": {},
   "outputs": [],
   "source": [
    "# Ex. 8-5\n",
    "fruits = ['orange', 'apple', 'pear', 'banana', 'kiwi', 'apple', 'banana']\n",
    "\n",
    "print(fruits)"
   ]
  },
  {
   "cell_type": "markdown",
   "metadata": {},
   "source": [
    "We can also use `+` to add a new element, see the following examples:"
   ]
  },
  {
   "cell_type": "code",
   "execution_count": null,
   "metadata": {},
   "outputs": [],
   "source": [
    "fruits = ['orange', 'apple', 'pear', 'banana', 'kiwi', 'apple', 'banana']\n",
    "print(fruits + [\"new word1\", \"new word2\"])\n",
    "\n",
    "# can you use list.append([\"new word1\", \"new word2\"])?\n",
    "fruits.append([\"new word1\", \"new word2\"])\n",
    "print(fruits)\n",
    "\n",
    "# how to get \"new word1\"?\n",
    "print(fruits[-1][0])"
   ]
  },
  {
   "cell_type": "markdown",
   "metadata": {},
   "source": [
    "### Exercise <font color=\"Crimson\">8-6\n",
    "Using `.count()`, print the number of '`a`' in the my_list."
   ]
  },
  {
   "cell_type": "code",
   "execution_count": null,
   "metadata": {},
   "outputs": [],
   "source": [
    "# Ex. 8-6\n",
    "my_list = ['a', 'b', 'b', 'a', 'a', 'b', 'a', 'b', 'a', 'a', 'a', 'b']\n",
    "print()"
   ]
  },
  {
   "cell_type": "markdown",
   "metadata": {},
   "source": [
    "**Built-in functions for lists**"
   ]
  },
  {
   "cell_type": "markdown",
   "metadata": {},
   "source": [
    "There are also some very useful functions that can also be used with lists.\n",
    "\n",
    "| Function | Description |\n",
    "| --- | --- |\n",
    "| len (list) | Returns the length (number of elements) of the object. Can also be used for strings, ranges, etc. |\n",
    "sorted (list) | Returns a new list with sorted elements."
   ]
  },
  {
   "cell_type": "code",
   "execution_count": null,
   "metadata": {},
   "outputs": [],
   "source": [
    "fruits = ['orange', 'apple', 'pear', 'banana', 'kiwi', 'apple', 'banana']\n",
    "print(len(fruits))"
   ]
  },
  {
   "cell_type": "code",
   "execution_count": null,
   "metadata": {},
   "outputs": [],
   "source": [
    "fruits = ['orange', 'apple', 'pear', 'banana', 'kiwi', 'apple', 'banana']\n",
    "print(sorted(fruits))"
   ]
  },
  {
   "cell_type": "markdown",
   "metadata": {},
   "source": [
    "### Exercise <font color=\"Crimson\">8-7\n",
    "**Using `len()`, `sorted()` and index, complete the code so it has the following output:**\n",
    "```\n",
    "Number of students: 5\n",
    "Name of first student (alphabetically): Aaron\n",
    "Name of last student (alphabetically): Erin\n",
    "```\n",
    "**Try to add more students and see if the code still works.**"
   ]
  },
  {
   "cell_type": "code",
   "execution_count": null,
   "metadata": {},
   "outputs": [],
   "source": [
    "# Ex. 8-7\n",
    "students = ['Erin', 'Aaron', 'Aereen', 'Arene', 'Erene']\n",
    "\n",
    "\n",
    "\n",
    "print(\"Number of students: \",     )\n",
    "print(\"Name of first student (alphabetically): \",  )\n",
    "print(\"Name of last student (alphabetically): \",    )"
   ]
  },
  {
   "cell_type": "markdown",
   "metadata": {},
   "source": [
    "**Tips: Difference between `sorted (list)` and `list.sort ()`**\n",
    "\n",
    "Both the list-only function (method) `list.sort()` and the function `sorted (list)` have the ability to sort the elements in the list in order. However, please note that there is a big difference in how it works.\n",
    "\n",
    "`sorted(list)` **returns** a sorted list of elements, and the list used for input **does not change**.\n",
    "\n",
    "On the other hand, `list.sort()` sorts the **list itself used for input**. **There is no return value.**\n",
    "\n",
    "Pay attention to this difference in characteristics and use the one that is appropriate for the situation."
   ]
  },
  {
   "cell_type": "markdown",
   "metadata": {},
   "source": [
    "<span style=\"color:blue\"> Be sure to notice **RETURN** </span>. \\\n",
    "For example:\n",
    "- `list.copy()` can **RETURN**: a new list would be generated\n",
    "- `list.append()` has **no RETURN**: the original list would be changed"
   ]
  },
  {
   "cell_type": "code",
   "execution_count": null,
   "metadata": {},
   "outputs": [],
   "source": [
    "fruits = ['orange', 'apple', 'pear', 'banana', 'kiwi', 'apple', 'banana']\n",
    "print(fruits.sort())"
   ]
  },
  {
   "cell_type": "code",
   "execution_count": null,
   "metadata": {},
   "outputs": [],
   "source": [
    "fruits = ['orange', 'apple', 'pear', 'banana', 'kiwi', 'apple', 'banana']\n",
    "fruits.sort()\n",
    "print(fruits)"
   ]
  },
  {
   "cell_type": "code",
   "execution_count": null,
   "metadata": {},
   "outputs": [],
   "source": [
    "fruits = ['orange', 'apple', 'pear', 'banana', 'kiwi', 'apple', 'banana']\n",
    "print(sorted(fruits))"
   ]
  },
  {
   "cell_type": "markdown",
   "metadata": {},
   "source": [
    " "
   ]
  },
  {
   "cell_type": "markdown",
   "metadata": {},
   "source": [
    "# <font color=\"Crimson\">9</font>&nbsp;<font color=\"silver\">|</font> &nbsp;Dictionary\n",
    "Another typical mechanism for storing values and variables in python is a data type called a dictionary.\n",
    "\n",
    "The list arranges multiple values in order, and when using values, the position of the value is specified by an index. On the other hand, a dictionary is a mechanism in which each value is set with another value called a key instead of having a sort order, and the associated value can be called by using that key."
   ]
  },
  {
   "cell_type": "markdown",
   "metadata": {},
   "source": [
    "## 9.1 | <font color=\"Crimson\"> How to make a dictionary\n",
    "In the list, multiple values are enclosed in \\{\\} (braces, both brace and curly bracket), and the key value and the value to be associated with it are described. Separate keys and values with a `:` colon, and if there are multiple key / value pairs, separate each pair with a `,` comma.\n",
    "```\n",
    "{[Key 1]: [Value 1], [Key 2]: [Value 2], [Key 3]: [Value 3] ....}\n",
    "```\n",
    "\n",
    "Empty dictionary can be written as `{}`, the same as list. As with lists, dictionaries are usually assigned to variables."
   ]
  },
  {
   "cell_type": "code",
   "execution_count": null,
   "metadata": {},
   "outputs": [],
   "source": [
    "my_dic = { \"apple\" : 12 , \"banana\" : 3 , \"orange\" : 51 , \"grape\" : 1 }\n",
    "print( my_dic )"
   ]
  },
  {
   "cell_type": "code",
   "execution_count": null,
   "metadata": {},
   "outputs": [],
   "source": [
    "my_dic = { \"apple\" : 12 , \"banana\" : 3 , \"orange\" : 51 , \"grape\" : 1 }\n",
    "\n",
    "my_value = my_dic[ \"apple\" ]\n",
    "print( my_value )"
   ]
  },
  {
   "cell_type": "markdown",
   "metadata": {},
   "source": [
    "You can also add key / value pairs to an existing dictionary by assigning a value to a nonexistent key."
   ]
  },
  {
   "cell_type": "code",
   "execution_count": null,
   "metadata": {},
   "outputs": [],
   "source": [
    "my_dic = { \"apple\" : 12 , \"banana\" : 3 , \"orange\" : 51 , \"grape\" : 1 }\n",
    "my_dic[ \"appl\" ] = 2\n",
    "my_dic[\"apple\"]=3\n",
    "print( my_dic )"
   ]
  },
  {
   "cell_type": "markdown",
   "metadata": {},
   "source": [
    "Another way is by using the method `.update`. This is useful for combining two dictionaries together or simply adding a key/value pair."
   ]
  },
  {
   "cell_type": "code",
   "execution_count": null,
   "metadata": {},
   "outputs": [],
   "source": [
    "my_dic = { \"apple\" : 12 , \"banana\" : 3 , \"orange\" : 51 , \"grape\" : 1 }\n",
    "# update an existent key\n",
    "my_dic.update({\"apple\":2})\n",
    "print( my_dic )\n",
    "\n",
    "# combine to dicts\n",
    "new_dic = {\"strawberry\" : 3, \"peach\" : 5}\n",
    "my_dic.update(new_dic) # dict.update() does not have returns, recall list.append()\n",
    "print(my_dic)"
   ]
  },
  {
   "cell_type": "code",
   "execution_count": null,
   "metadata": {},
   "outputs": [],
   "source": [
    "my_dic = { \"apple\" : 12 , \"banana\" : 3 , \"orange\" : 51 , \"grape\" : 1 }\n",
    "my_dic[ \"apple\" ] = 100\n",
    "print( my_dic )"
   ]
  },
  {
   "cell_type": "markdown",
   "metadata": {},
   "source": [
    "### Exercise <font color=\"Crimson\">9-1\n",
    "**Write a Python script to add a key to a dictionary.**\n",
    "```\n",
    "Sample Dictionary : {0: 10, 1: 20}\n",
    "Expected Result : {0: 10, 1: 20, 2: 30}\n",
    "```"
   ]
  },
  {
   "cell_type": "code",
   "execution_count": null,
   "metadata": {},
   "outputs": [],
   "source": [
    "#Exercise 9-1\n",
    "d = {0 : 10, 1: 20}\n",
    "\n",
    "print()"
   ]
  },
  {
   "cell_type": "markdown",
   "metadata": {},
   "source": [
    "### Exercise <font color=\"Crimson\">9-2\n",
    "**Write a Python script to print a dictionary where the keys are numbers between 1 and 15 (both included) and the values are square of keys.**\n",
    "```\n",
    "Sample Dictionary\n",
    "{1: 1, 2: 4, 3: 9, 4: 16, 5: 25, 6: 36, 7: 49, 8: 64, 9: 81, 10: 100, 11: 121, 12: 144, 13: 169, 14: 196, 15: 225}\n",
    "```"
   ]
  },
  {
   "cell_type": "code",
   "execution_count": null,
   "metadata": {},
   "outputs": [],
   "source": [
    "#Exercise 9-2\n",
    "myd = {}\n",
    "\n",
    "\n",
    "\n",
    "print(myd)"
   ]
  },
  {
   "cell_type": "markdown",
   "metadata": {},
   "source": [
    "## 9.2 | <font color=\"Crimson\"> Functions available for dictionaries</font>\n",
    "Two typical functions that can be used with dictionaries are:\n",
    "\n",
    "| Function | Description |\n",
    "| --- | --- |\n",
    "| dictionary.**keys ()** | Returns all keys set in the dictionary <br> Return value is dict_keys type |\n",
    "| dictionary.**values ()** | Returns all values set in the dictionary <br> The return value is of type dict_values |\n",
    "\n",
    "Since each return value is a special type, it is convenient to convert it to a list type using the built-in function list ()."
   ]
  },
  {
   "cell_type": "code",
   "execution_count": null,
   "metadata": {},
   "outputs": [],
   "source": [
    "my_dic = { \"apple\" : 12 , \"banana\" : 3 , \"orange\" : 51 , \"grape\" : 1 }\n",
    "print( my_dic.keys() )"
   ]
  },
  {
   "cell_type": "code",
   "execution_count": null,
   "metadata": {},
   "outputs": [],
   "source": [
    "my_dic = { \"apple\" : 12 , \"banana\" : 3 , \"orange\" : 51 , \"grape\" : 1 }\n",
    "li = list( my_dic.keys() )\n",
    "print(li)"
   ]
  },
  {
   "cell_type": "code",
   "execution_count": null,
   "metadata": {},
   "outputs": [],
   "source": [
    "my_dic = { \"apple\" : 12 , \"banana\" : 3 , \"orange\" : 51 , \"grape\" : 1, \"strawberry\": 1}\n",
    "print( my_dic.values() )"
   ]
  },
  {
   "cell_type": "code",
   "execution_count": null,
   "metadata": {},
   "outputs": [],
   "source": [
    "my_dic = { \"apple\" : 12 , \"banana\" : 3 , \"orange\" : 51 , \"grape\" : 1, \"strawberry\": 1}\n",
    "li = list( my_dic.values() )\n",
    "print( li )\n",
    "\n",
    "print(set(my_dic.values())) # the unique elements"
   ]
  },
  {
   "cell_type": "markdown",
   "metadata": {},
   "source": [
    "## 9.3 | <font color=\"Crimson\"> Dictionary with `for`\n",
    "Like lists, dictionaries can be use together with `for`.\n",
    "\n",
    "When a `for` statement is applied to a dictionary, each key is assigned to a variable."
   ]
  },
  {
   "cell_type": "code",
   "execution_count": null,
   "metadata": {},
   "outputs": [],
   "source": [
    "my_dic = { \"apple\" : 12 , \"banana\" : 3 , \"orange\" : 51 , \"grape\" : 1 }\n",
    "for j in my_dic:\n",
    "    print( j ) # keys"
   ]
  },
  {
   "cell_type": "markdown",
   "metadata": {},
   "source": [
    "You can retrieve the value using this property."
   ]
  },
  {
   "cell_type": "code",
   "execution_count": null,
   "metadata": {},
   "outputs": [],
   "source": [
    "my_dic = { \"apple\" : 12 , \"banana\" : 3 , \"orange\" : 51 , \"grape\" : 1 }\n",
    "for j in my_dic:\n",
    "    print( my_dic[j] ) # values"
   ]
  },
  {
   "cell_type": "code",
   "execution_count": null,
   "metadata": {},
   "outputs": [],
   "source": [
    "my_dic = { \"apple\" : 12 , \"banana\" : 3 , \"orange\" : 51 , \"grape\" : 1 }\n",
    "for j in my_dic:\n",
    "    value = my_dic[j]\n",
    "    output = \"The number of {0} is {1}.\".format( j , value )\n",
    "    print( output )"
   ]
  },
  {
   "cell_type": "markdown",
   "metadata": {},
   "source": [
    "### Exercise <font color=\"Crimson\">9-3\n",
    "**Write a Python script to concatenate following dictionaries to create a new one.**\n",
    "```\n",
    "Sample Dictionary :\n",
    "dic1={1:10, 2:20}\n",
    "dic2={3:30, 4:40}\n",
    "dic3={5:50,6:60}\n",
    "Expected Result : {1: 10, 2: 20, 3: 30, 4: 40, 5: 50, 6: 60}\n",
    "```\n",
    "*Hint: Make a new empty list called dic4 then use `for` to add elements of 'dic1, dic2, dic3' to dic4 in a form of key/value pair.*\n",
    "    \n",
    "`for dic in [dic1, dic2, dic3]`\n",
    "    "
   ]
  },
  {
   "cell_type": "code",
   "execution_count": null,
   "metadata": {},
   "outputs": [],
   "source": [
    "#Exercise 9-3\n",
    "dic1={1:10, 2:20}\n",
    "dic2={3:30, 4:40}\n",
    "dic3={5:50,6:60}\n",
    "dic4={}\n",
    "for i in [dic1, dic2, dic3]:\n",
    "    for j in i:\n",
    "\n",
    "\n",
    "\n",
    "\n",
    "dic4\n",
    "\n",
    "\n"
   ]
  },
  {
   "cell_type": "markdown",
   "metadata": {},
   "source": [
    "## 10.1 | <font color=\"Crimson\"> Character Extraction\n",
    "Based on knowledge related to list types, we will learn about strings once again.\n",
    "\n",
    "List type and string (string type) are completely different types of data, but there is a common point that multiple elements have a certain order.\n",
    "\n",
    "Therefore, the string can be handled in the same way as the list type. For example, partial character string extraction using an index.\n",
    "\n",
    "If an index is given to a list type instance, the element of that part could be extracted. A string can be extracted in the same way."
   ]
  },
  {
   "cell_type": "code",
   "execution_count": null,
   "metadata": {},
   "outputs": [],
   "source": [
    "word = 'Python'\n",
    "print( \"character in position 0\" )\n",
    "print( word[0] ) # character in position 0\n",
    "\n",
    "print( \"character in position 5\" )\n",
    "print( word[5] )  # character in position 5\n",
    "\n",
    "print( \"last character\" )\n",
    "print( word[-1] )  # last character\n",
    "\n",
    "print( \"second-last character\" )\n",
    "print( word[-2] )  # second-last character"
   ]
  },
  {
   "cell_type": "markdown",
   "metadata": {},
   "source": [
    "In this way, the index counting method is the same as the list.\n",
    "\n",
    "You can also get a partial string by giving two indices, start and end. This process is called slicing."
   ]
  },
  {
   "cell_type": "code",
   "execution_count": null,
   "metadata": {},
   "outputs": [],
   "source": [
    "word = 'Python'\n",
    "print( \"result of word[0:2]\" )\n",
    "print( word[0:2] )  # characters from position 0 (included) to 2 (excluded)\n",
    "\n",
    "print( \"result of word[2:5]\" )\n",
    "print( word[2:5] )  # characters from position 2 (included) to 5 (excluded)"
   ]
  },
  {
   "cell_type": "markdown",
   "metadata": {},
   "source": [
    "As with lists, the start index is always included and the end index is always included.\n",
    "\n",
    "This characteristic is difficult to remember, but is easy to understand if you are aware that the index is located between each element."
   ]
  },
  {
   "cell_type": "markdown",
   "metadata": {},
   "source": [
    "```\n",
    "  +---+---+---+---+---+---+\n",
    "  | P | y | t | h | o | n |\n",
    "  +---+---+---+---+---+---+\n",
    "  0   1   2   3   4   5   6\n",
    " -6  -5  -4  -3  -2  -1\n",
    "```\n",
    "\n",
    "When slicing, if one index is omitted, the left or right end of the string is automatically specified."
   ]
  },
  {
   "cell_type": "code",
   "execution_count": null,
   "metadata": {},
   "outputs": [],
   "source": [
    "word = 'Hello, Python'\n",
    "\n",
    "print( \"result of word[:2]\" )\n",
    "print( word[:2] )   # character from the beginning to position 2 (excluded)\n",
    "\n",
    "print( \"result of word[6:]\" )\n",
    "print( word[6:] )  # characters from position 6 (included) to the end\n",
    "\n",
    "print( \"result of word[-2:]\" )\n",
    "print( word[-2:] ) # characters from the second-last (included) to the end"
   ]
  },
  {
   "cell_type": "markdown",
   "metadata": {},
   "source": [
    "`len()` is used to return the length of an object, e.g., string, list, dict..."
   ]
  },
  {
   "cell_type": "code",
   "execution_count": null,
   "metadata": {},
   "outputs": [],
   "source": [
    "str = 'python'\n",
    "result = ''\n",
    "for i in range(len(str)):\n",
    "    if i % 2 == 0:\n",
    "        result = result + str[i]\n",
    "print(result)"
   ]
  },
  {
   "cell_type": "markdown",
   "metadata": {},
   "source": [
    "### Exercise <font color=\"Crimson\">10-1\n",
    "**Write a Python program to get a string made of the first 2 and the last 2 chars from a given a string. If the string length is less than 2, return instead of the empty string.**\n",
    "```\n",
    "Sample String   : 'w3resource'\n",
    " Expected Result : 'w3ce'\n",
    "Sample String   : 'w3'\n",
    " Expected Result : 'w3w3'\n",
    "Sample String   : ' w'\n",
    " Expected Result : Empty String\n",
    "```\n",
    "    \n",
    "*Hint: `input()` function allows user input*"
   ]
  },
  {
   "cell_type": "code",
   "execution_count": null,
   "metadata": {},
   "outputs": [],
   "source": [
    "#Exercise 10-1\n",
    "i=input(\"your words\")\n",
    "print(f\"Sample String: {i}\")\n",
    "\n",
    "\n",
    "\n",
    "print(f\"Expected Result: {expres}\")"
   ]
  },
  {
   "cell_type": "markdown",
   "metadata": {},
   "source": [
    "### Exercise <font color=\"Crimson\">10-2\n",
    "**Write a Python program to get a lyrics of 'The Name Game' for a given name. Lyrics of 'Name Game' is as follows:**\n",
    "```\n",
    "Sample Name   : 'Judy'\n",
    "Expected Result : \n",
    "  Judy, Judy bo Budy\n",
    "  Banana fana fo Fudy\n",
    "  Fee fy mo Mudy\n",
    "  Judy\n",
    "```\n",
    " **J** and **udy**\n",
    "    \n",
    "```\n",
    "Sample Name   : 'Lana'\n",
    "Expected Result : \n",
    "  Lana, Lana bo Bana\n",
    "  Banana fana fo Fana\n",
    "  Fee fy mo Mana\n",
    "  Lana\n",
    "```\n",
    "**L** and **ana**\n",
    "    \n",
    "Try to use:\n",
    "- `\\n`\n",
    "- `string.upper()`\n",
    "- `string.lower()`\n",
    "\n",
    "If \"laNA\" is the input, pls capitalize `l` to `L` and lowercase `aNA` to `ana`\n",
    "    "
   ]
  },
  {
   "cell_type": "code",
   "execution_count": null,
   "metadata": {},
   "outputs": [],
   "source": [
    "#Exercise 10-2, \n",
    "i=input(\"your name, 4 characters\")\n",
    "if (len(i)==4) and (type(i) is str):\n",
    "    \n",
    "    \n",
    "    \n",
    "else:\n",
    "    print(\"please input a word with 4 characters, not number!\")\n",
    "\n"
   ]
  },
  {
   "cell_type": "markdown",
   "metadata": {},
   "source": [
    "## 10.2 | <font color=\"Crimson\">  Functions that can handle strings</font>\n",
    "There are several methods for strings such as `str.format ()` introduced in section 1-5-2.\n",
    "https://docs.python.org/en/3.5/library/stdtypes.html#list-methods\n",
    "\n",
    "I can't cover all of them, but here are some of the most important ones.\n",
    "\n",
    "| Function | Description |\n",
    "| --- | --- |\n",
    "| str.**count ()** | Count how many times the string given as an argument appears in the string.|\n",
    "| str.**lower ()** | Returns a string with all letters in str in lowercase.|\n",
    "| str.**upper ()** | Returns a string with all alphabets in str capitalized.|\n",
    "| str.**join (list etc.)** | Returns a string that is concatenated with str by the list of strings given in the argument.|\n",
    "| str.**split (sep)** | Splits str using the string given by the argument (sep) as a delimiter, and returns it as a list.|\n",
    "| str.**replace (old, new)** | Returns the string specified in argument 1 (old) with the string specified in argument 2 (new).|\n",
    "\n",
    "Also, `len ()`, used to check the number of elements in a list, can be used for strings."
   ]
  },
  {
   "cell_type": "markdown",
   "metadata": {},
   "source": [
    "### str.count()"
   ]
  },
  {
   "cell_type": "code",
   "execution_count": null,
   "metadata": {},
   "outputs": [],
   "source": [
    "str = \"Love the life you live. Live the life you love.\"\n",
    "\n",
    "print(\"result of str.count(\\\"life\\\")\")\n",
    "print( str.count(\"life\") )\n",
    "\n",
    "print(\"result of str.count(\\\"love\\\")\")\n",
    "print( str.count(\"love\") )\n"
   ]
  },
  {
   "cell_type": "markdown",
   "metadata": {},
   "source": [
    "### Exercise <font color=\"Crimson\">10-3\n",
    "**Write a Python program to count repeated characters in a string.** \n",
    "```\n",
    "Sample string: 'thequickbrownfoxjumpsoverthelazydog'\n",
    "Expected output :\n",
    "o 4\n",
    "e 3\n",
    "u 2\n",
    "h 2\n",
    "r 2\n",
    "t 2\n",
    "```"
   ]
  },
  {
   "cell_type": "code",
   "execution_count": null,
   "metadata": {},
   "outputs": [],
   "source": [
    "#Exercise 10-3\n",
    "i=\"thequickbrownfoxjumpsoverthelazydog\"\n",
    "\n",
    "\n",
    "\n"
   ]
  },
  {
   "cell_type": "markdown",
   "metadata": {},
   "source": [
    "At this time, Love and love are distinguished by case.\n",
    "By combining `str.lower()` and `str.upper()`, you can count strings by ignoring case."
   ]
  },
  {
   "cell_type": "code",
   "execution_count": null,
   "metadata": {},
   "outputs": [],
   "source": [
    "str = \"Love the life you live. Live the life you love.\"\n",
    "\n",
    "str_low = str.lower() # it has returens\n",
    "\n",
    "print(\"result of str_low.count('love')\")\n",
    "print( str_low.count('love') )"
   ]
  },
  {
   "cell_type": "code",
   "execution_count": null,
   "metadata": {},
   "outputs": [],
   "source": [
    "dna = \"atatcgatacacagtttcagtatcatgat\"\n",
    "dna_up = dna.upper()\n",
    "print(dna_up)\n",
    "print( dna_up.count(\"A\") )"
   ]
  },
  {
   "cell_type": "markdown",
   "metadata": {},
   "source": [
    "### str.join()"
   ]
  },
  {
   "cell_type": "code",
   "execution_count": null,
   "metadata": {},
   "outputs": [],
   "source": [
    "li = ['Peace', 'begins', 'with', 'a', 'smile.']\n",
    "strp = \" \".join( li ) # joins items in the list with \" \", a space. \n",
    "print(strp)"
   ]
  },
  {
   "cell_type": "code",
   "execution_count": null,
   "metadata": {},
   "outputs": [],
   "source": [
    "li = ['Peace', 'begins', 'with', 'a', 'smile.']\n",
    "str = \", \".join( li ) # joins items in the list with \",\"\n",
    "print(str)"
   ]
  },
  {
   "cell_type": "markdown",
   "metadata": {},
   "source": [
    "### Exercise <font color=\"Crimson\">10-4\n",
    "**Write a Python program to rewrite a sentence into a dying sentence, like in a movie.** \n",
    "```\n",
    "Sample string: 'I love you'\n",
    "Expected output : 'I... love... you...'\n",
    "```\n",
    "Try to use `str.split()` as shown in the below"
   ]
  },
  {
   "cell_type": "code",
   "execution_count": null,
   "metadata": {},
   "outputs": [],
   "source": [
    "#Exercise 10-4\n",
    "i = 'I love you'\n",
    "\n",
    "\n"
   ]
  },
  {
   "cell_type": "markdown",
   "metadata": {},
   "source": [
    "### str.split()"
   ]
  },
  {
   "cell_type": "code",
   "execution_count": null,
   "metadata": {},
   "outputs": [],
   "source": [
    "str = \"Peace begins with a smile.\"\n",
    "print(str.split(\" \")) # str.join() and str.split() both have returns\n",
    "print(str) # splits the string with spaces."
   ]
  },
  {
   "cell_type": "markdown",
   "metadata": {},
   "source": [
    "### str.replace()"
   ]
  },
  {
   "cell_type": "code",
   "execution_count": null,
   "metadata": {},
   "outputs": [],
   "source": [
    "str = \"This is an apple apple apple.\"\n",
    "print( str.replace(\"apple\",\"orange\") )"
   ]
  },
  {
   "cell_type": "code",
   "execution_count": null,
   "metadata": {},
   "outputs": [],
   "source": [
    "dna = \"ATATCGATACACAGTTTCAGTATCATGAT\"\n",
    "dna_replaced = dna.replace(\"A\",\"G\")\n",
    "print( dna_replaced )"
   ]
  },
  {
   "cell_type": "markdown",
   "metadata": {},
   "source": [
    "### Exercise <font color=\"Crimson\">10-5\n",
    "**In the game Final Fantasy X, the Al Bhed language is spoken by the Al Bhed people and its work like a substitution cipher (a language system replacing certain letters with others). Here's the dictionary for the conversion. The key is in English, while the value is in Al Bhed.**\n",
    "```\n",
    "al_bhed_dic = {'E':'A', 'P':'B', 'S':'C', 'T':'D', 'I':'E', 'W':'F', 'K':'G', 'N':'H', 'U':'I', 'V':'J', 'G':'K', 'C':'L', 'L':'M', 'R':'N', 'Y':'O', 'B':'P', 'X':'Q', 'H':'R', 'M':'S', 'D':'T', 'O':'U', 'F':'Z', 'Z':'W', 'Q':'X', 'A':'Y', 'J':'Z', ' ': ' ', '.':'.'}\n",
    "  ```\n",
    "Write a Python program to translate an English sentence into Al Bhed. Make sure that the lowercase and uppercase matches. \n",
    "Also, note that if it is a name (started with capital letter), it is not getting translated.\n",
    "```\n",
    "Sample String   : 'My name is Rikku.'\n",
    "Expected Result : 'So hysa ec Rikku.'\n",
    "```\n",
    "*Hint: use `.split()` to translate per word and use `string_name.isupper()` to check if it is a name or note.*"
   ]
  },
  {
   "cell_type": "code",
   "execution_count": null,
   "metadata": {},
   "outputs": [],
   "source": [
    "#Exercise 10-5\n",
    "al_bhed_dic = {'E':'A', 'P':'B', 'S':'C', 'T':'D', \n",
    "               'I':'E', 'W':'F', 'K':'G', 'N':'H', \n",
    "               'U':'I', 'V':'J', 'G':'K', 'C':'L', \n",
    "               'L':'M', 'R':'N', 'Y':'O', 'B':'P', \n",
    "               'X':'Q', 'H':'R', 'M':'S', 'D':'T', \n",
    "               'O':'U', 'F':'Z', 'Z':'W', 'Q':'X', \n",
    "               'A':'Y', 'J':'Z', ' ': ' ', '.':'.'}\n",
    "str1=\"I AM LEARNING PYTHON LANGUAGE.\" # pls translate it into Al Bhed\n",
    "str2=\"My name is Rikku. \" # pls keep name Rikku, keep lowercase and uppercase characters\n",
    "\n",
    "# use `for` function and `dict.update()` to creat a new dic including lowercase and uppercase, such as {'E':'A', 'e':'a',... }\n",
    "\n",
    "\n",
    "# use `for` function and check whether it is a name \n",
    "# (not the first word, starting with uppercase and the second is lowercase: string_name.isupper(), string_name.islower())\n",
    "\n"
   ]
  },
  {
   "cell_type": "markdown",
   "metadata": {},
   "source": [
    "### len(str)"
   ]
  },
  {
   "cell_type": "code",
   "execution_count": null,
   "metadata": {},
   "outputs": [],
   "source": [
    "str = \"This is an apple.\"\n",
    "print( len(str) )"
   ]
  },
  {
   "cell_type": "code",
   "execution_count": null,
   "metadata": {},
   "outputs": [],
   "source": [
    "dna = \"ATATCGATACACAGTTTCAGTATCATGAT\"\n",
    "dna_len = len(dna)\n",
    "print(\"The length of the DNA sequence is {0} nucleotids.\".format(dna_len) )"
   ]
  },
  {
   "cell_type": "markdown",
   "metadata": {},
   "source": [
    "### Exercise <font color=\"Crimson\">10-6\n",
    "**Write a Python program to remove the characters which have odd index values of a given string.**\n",
    "```\n",
    "Sample String   : 'python'\n",
    "Expected Result : 'pto'\n",
    "```"
   ]
  },
  {
   "cell_type": "code",
   "execution_count": null,
   "metadata": {},
   "outputs": [],
   "source": [
    "#Exercise 10-6\n",
    "str = 'python'\n"
   ]
  },
  {
   "cell_type": "markdown",
   "metadata": {},
   "source": [
    "# <font color=\"Crimson\">11</font>&nbsp;<font color=\"silver\">|</font> &nbsp;Library"
   ]
  },
  {
   "cell_type": "markdown",
   "metadata": {},
   "source": [
    "## 12.1 | <font color=\"Crimson\"> How to extract a value from a file object\n",
    "Let's actually use what the library looks like.\n",
    "\n",
    "For example, there is no built-in function that directly calculates the natural logarithm of 3. However, it can be easily calculated using `log()` in a library called `math`.\n",
    "$$\n",
    "\\ log 3\n",
    "$$\n",
    "\n",
    "Let's learn how to use the library using `math` `log()`as an example.\n",
    "\n",
    "To use the library, use the import statement."
   ]
  },
  {
   "cell_type": "code",
   "execution_count": null,
   "metadata": {},
   "outputs": [],
   "source": [
    "import math\n",
    "\n",
    "result = math.log(3)\n",
    "print(result)"
   ]
  },
  {
   "cell_type": "markdown",
   "metadata": {},
   "source": [
    "The `import` statement is basically written at the beginning of the code.\n",
    "\n",
    "`math` also has various other functions such as `sqrt () `that calculates the square root, `\n",
    "sin () cos () tan ()` that returns sine, cosine, and tangent."
   ]
  },
  {
   "cell_type": "code",
   "execution_count": null,
   "metadata": {},
   "outputs": [],
   "source": [
    "import math\n",
    "\n",
    "print( math.log(3) )\n",
    "print( math.sin(3) )\n",
    "print( math.cos(3) )\n",
    "print( math.tan(3) )"
   ]
  },
  {
   "cell_type": "markdown",
   "metadata": {},
   "source": [
    "In addition to math, there is also a `random` library that is often used.\n",
    "\n",
    "`random` has a function to generate a pseudo-random number, and a function using that random number is prepared.\n",
    "Here we introduce `shuffle()` which randomly shuffles list elements and `sample()` which randomly selects k elements from list elements and returns them in a list."
   ]
  },
  {
   "cell_type": "markdown",
   "metadata": {},
   "source": [
    "First is `shuffle()`. The method `shuffle()` shuffles the list elements with in-place operation (in place, how to replace the original data with the operation result).\n",
    "Note that there is no return value and the list itself is changed."
   ]
  },
  {
   "cell_type": "code",
   "execution_count": null,
   "metadata": {},
   "outputs": [],
   "source": [
    "import random\n",
    "li = ['orange', 'apple', 'pear','kiwi', 'banana']\n",
    "random.shuffle(li)\n",
    "print(li) # run several times, each time has different list"
   ]
  },
  {
   "cell_type": "markdown",
   "metadata": {},
   "source": [
    "Next is `sample()`. The method `sample(list, k)` returns a list of k elements selected from the given list. Used for random sampling without overlap."
   ]
  },
  {
   "cell_type": "code",
   "execution_count": null,
   "metadata": {},
   "outputs": [],
   "source": [
    "import random\n",
    "li = ['orange', 'apple', 'pear','kiwi', 'banana']\n",
    "print( random.sample(li,2) )"
   ]
  },
  {
   "cell_type": "markdown",
   "metadata": {},
   "source": [
    "### Exercise <font color=\"Crimson\">11-1\n",
    "**Write a Python program, which generates random ten float values in range of 4.0 to 20.0.**\n",
    "\n",
    "Try a google search to find an appropriate function of `random` library.\n",
    "- Uniform distribution\n",
    "- Normal distribution\n",
    "- ...\n",
    "    "
   ]
  },
  {
   "cell_type": "code",
   "execution_count": null,
   "metadata": {},
   "outputs": [],
   "source": [
    "#Exercise 11-1\n",
    "import random\n",
    "\n",
    "\n"
   ]
  },
  {
   "cell_type": "markdown",
   "metadata": {},
   "source": [
    "### Exercise <font color=\"Crimson\">11-2\n",
    "**Write a Python program, which calculates a squere root value of x (x=49).**\n",
    "\n",
    "Try a google search to find an appropriate function of `math` library."
   ]
  },
  {
   "cell_type": "code",
   "execution_count": null,
   "metadata": {},
   "outputs": [],
   "source": [
    "#Exercise 11-2\n",
    "import math\n",
    "\n",
    "\n"
   ]
  },
  {
   "cell_type": "markdown",
   "metadata": {},
   "source": [
    "## 11.2 | <font color=\"Crimson\"> Some Practical Libraries\n",
    "The `random` and `math` introduced above are libraries built into `python` itself and can be imported immediately after installing `python`. Such a library is called a standard library. There are many other standard libraries besides `math` and `random`, which are not covered here. Please refer to the following website for an introduction to the standard library."
   ]
  },
  {
   "cell_type": "markdown",
   "metadata": {},
   "source": [
    "https://docs.python.org/3/library/index.html"
   ]
  },
  {
   "cell_type": "markdown",
   "metadata": {},
   "source": [
    "You can also install and use libraries provided by third parties in python. These are called **external libraries** with respect to the standard library.\n",
    "Some of the external libraries are very popular, and there are many libraries that are indispensable for current python programming.\n",
    "\n",
    "Examples of commonly used external libraries\n",
    "\n",
    "| Library name | Description |\n",
    "| --- | --- |\n",
    "| matplotlib | Library for drawing graphs from data |\n",
    "|seaborn| Library for drawing graphs from data |\n",
    "| numpy | Matrix calculation and other advanced numerical calculations are possible |\n",
    "| pandas | Effective handling of tabular data |\n",
    "| scikit-learn (sklearn) | Machine learning library |\n",
    "\n",
    "Google colaboratory (your environment) `python` already has popular **external libraries** installed, including the four external libraries listed above. If you want to use a library that is not installed, you need to use an external program called `pip`.\n",
    "\n",
    "Here are some examples:\n",
    "\n",
    "An external library called `pycm` is not installed in python of google colaboratory, so an error will occur when trying to import pycm.\n",
    "Try running the code below to see the error."
   ]
  },
  {
   "cell_type": "code",
   "execution_count": null,
   "metadata": {},
   "outputs": [],
   "source": [
    "import pycm"
   ]
  },
  {
   "cell_type": "markdown",
   "metadata": {},
   "source": [
    "Next, install pandas_profiling using the external program `pip`. You can install it with\n",
    "\n",
    "`pip install [program name]`.\n",
    "\n",
    "However, to execute an external program on jupyter-notebook, it is necessary to add `!` at the beginning of the command line, so here it become\n",
    "\n",
    "`!pip install [program name]`. \n",
    "\n",
    "Then install `pycm` by executing the code below."
   ]
  },
  {
   "cell_type": "code",
   "execution_count": null,
   "metadata": {},
   "outputs": [],
   "source": [
    "pip install pycm"
   ]
  },
  {
   "cell_type": "code",
   "execution_count": null,
   "metadata": {},
   "outputs": [],
   "source": [
    "!pip install pycm"
   ]
  },
  {
   "cell_type": "code",
   "execution_count": null,
   "metadata": {},
   "outputs": [],
   "source": [
    "import pycm"
   ]
  },
  {
   "cell_type": "markdown",
   "metadata": {},
   "source": [
    "### Exercise <font color=\"Crimson\">11-3\n",
    "Below is a code using matplotlib library, which generates a barplot of y with labels in x."
   ]
  },
  {
   "cell_type": "code",
   "execution_count": null,
   "metadata": {},
   "outputs": [],
   "source": [
    "#Example\n",
    "import matplotlib.pyplot as plt\n",
    "import numpy as np\n",
    "\n",
    "x = [\"A\",\"B\",\"C\",\"D\",\"E\"]\n",
    "y = [3, 2, 3, 4, 6]\n",
    "\n",
    "plt.bar(x, y) # generating a bar plot\n",
    "plt.title('plot name') # title of the plot\n",
    "plt.xlabel('labels') # label for x axis\n",
    "plt.ylabel('values') # label for y axis\n",
    "plt.show()"
   ]
  },
  {
   "cell_type": "markdown",
   "metadata": {},
   "source": [
    "Here is a list of height (cm) of some students. \n",
    "\n",
    "|Name|height (cm)|\n",
    "|---|---:|\n",
    "|JAMES|190|\n",
    "ROBERT|179\n",
    "LINDA|163\n",
    "LISA|156\n",
    "MARY|172\n",
    "\n",
    "**Write a Python program, which generates a barplot for the list.**\n",
    "\n",
    "Copy and modify the code above.\n",
    "\n",
    "Try a google search to make the bars green.\n",
    "\n",
    "Expected result:\n",
    "\n",
    "<img src=\"http://gp-ds.tohoku.ac.jp/class/skillup_2019b/files/Ex12-3_example.png\" width=\"400\">\n"
   ]
  },
  {
   "cell_type": "code",
   "execution_count": null,
   "metadata": {},
   "outputs": [],
   "source": [
    "#Exercise 11-3\n",
    "import matplotlib.pyplot as plt\n",
    "import numpy as np\n",
    "\n",
    "x = [\"JAMES\",\"ROBERT\",\"LINDA\",\"LISA\",\"MARY\"]\n",
    "y = [190, 179, 163, 156, 172]\n",
    "\n"
   ]
  },
  {
   "cell_type": "markdown",
   "metadata": {},
   "source": [
    " "
   ]
  },
  {
   "cell_type": "markdown",
   "metadata": {},
   "source": [
    "# <font color=\"Crimson\">12</font>&nbsp;<font color=\"silver\">|</font> &nbsp;Functions"
   ]
  },
  {
   "cell_type": "markdown",
   "metadata": {},
   "source": [
    "## 12.1 | <font color=\"Crimson\"> How to extract a value from a file object"
   ]
  },
  {
   "cell_type": "markdown",
   "metadata": {},
   "source": [
    "So far, we have learned that there are tools with various functions in python, and that more functions can be used by calling the library.\n",
    "On the other hand, you can also create your own functions.\n",
    "If you do something similar many times, it is more efficient to create a function and call it each time than to write similar code many times.\n",
    "\n",
    "Creating a function is also called **defining a function**. Functions can be defined through the `def` statement as follows:\n",
    "```\n",
    "def [function name]():\n",
    "   Process 1\n",
    "   Process 2\n",
    "   Process 3\n",
    "   ・\n",
    "   ・\n",
    "   ・\n",
    "```\n",
    "The following code defines a function that executes 3 + 4 and prints the execution result.\n",
    "Try to run it."
   ]
  },
  {
   "cell_type": "code",
   "execution_count": null,
   "metadata": {},
   "outputs": [],
   "source": [
    "def add():\n",
    "    result = 3 + 4\n",
    "    print( result )"
   ]
  },
  {
   "cell_type": "markdown",
   "metadata": {},
   "source": [
    "The result of `3 + 4` should be displayed.\n",
    "\n",
    "As shown below, it is also possible to set an argument to the function and perform processing using the argument. Setting arguments allows you to create more flexible functions."
   ]
  },
  {
   "cell_type": "code",
   "execution_count": null,
   "metadata": {},
   "outputs": [],
   "source": [
    "def add(x,y):\n",
    "    result = x + y\n",
    "    print( result )\n",
    "\n",
    "add(4,2)\n",
    "add(8,-3)\n",
    "add(382,-129)"
   ]
  },
  {
   "cell_type": "markdown",
   "metadata": {},
   "source": [
    "If you use return in a `def` statement, you can set the return value. The result of processing performed by a function is generally a return value."
   ]
  },
  {
   "cell_type": "code",
   "execution_count": null,
   "metadata": {},
   "outputs": [],
   "source": [
    "def add(x,y):\n",
    "    result = x + y\n",
    "    return result # here, is the return\n",
    "\n",
    "print( add(4,2) )\n",
    "\n",
    "num = add(9,10)\n",
    "print(num)"
   ]
  },
  {
   "cell_type": "markdown",
   "metadata": {},
   "source": [
    "### Exercise <font color=\"Crimson\">12-1\n",
    "  \n",
    "**Write the code that performs the FizzBuzz created in Exercise 7-5 as a function named `fizzbuzz()` and performs up to the 100th time.**"
   ]
  },
  {
   "cell_type": "markdown",
   "metadata": {},
   "source": [
    "Fizz Buzz is a language play during long-distance driving and drinking parties in English-speaking countries.\n",
    "The player sits in a circle. The first player says “1”. The next player speaks the next number of the previous player. \n",
    "However, *\"Fizz\"* must be said instead of a number if it is divisible by *3*, *\"Buzz\"* if it is divisible by *5*, and *\"Fizz Buzz\"* if it is divisible *by both*.\n",
    "\n",
    "The game proceeds as follows:\n",
    "\n",
    "1, 2, Fizz, 4, Buzz, Fizz, 7, 8, Fizz, Buzz, 11, Fizz, 13, 14, FizzBuzz, 16, 17, Fizz, 19, Buzz, Fizz, 22, 23, Fizz, Buzz, 26, Fizz, 28, 29, FizzBuzz, 31, 32, Fizz, 34, Buzz, Fizz, ..."
   ]
  },
  {
   "cell_type": "code",
   "execution_count": null,
   "metadata": {},
   "outputs": [],
   "source": [
    "#Exercise 12-3 Fizz Buzz is\n",
    "\n",
    "def fizzbuzz(x):\n",
    "    str11=x\n",
    "# Your code\n",
    "\n",
    "\n",
    "\n",
    "\n",
    "for i in range(1,101):\n",
    "    print(fizzbuzz(i))\n",
    "\n",
    "# to check the code, firstly you can run print(fizzbuzz(1))\n",
    "print(fizzbuzz(1))"
   ]
  },
  {
   "cell_type": "markdown",
   "metadata": {},
   "source": [
    "## 12.2 | <font color=\"Crimson\"> `main` function"
   ]
  },
  {
   "cell_type": "markdown",
   "metadata": {},
   "source": [
    "In python, after creating a function called `main()` and defining all the processing to be performed in the program with `main()`, it is recommended to use `if` statement to run `main()` as follows:\n",
    "```\n",
    "def main():\n",
    "     [All processing]\n",
    "if __name__ == '__main__':\n",
    "     main()\n",
    "```\n",
    "At this stage, you don't really need to completely understand the meaning of this if statement.\n",
    "\n",
    "Here are some examples of this `main` function. Try to run these codes and see what `main` function rule in each codes."
   ]
  },
  {
   "cell_type": "code",
   "execution_count": null,
   "metadata": {},
   "outputs": [],
   "source": [
    "def main():\n",
    "    li = ['Peace', 'begins', 'with', 'a', 'smile.']\n",
    "    str = \" \".join( li ) # joins items in the list with \" \", a space. \n",
    "    print(str)\n",
    "\n",
    "if __name__ == '__main__': \n",
    "    main()"
   ]
  },
  {
   "cell_type": "code",
   "execution_count": null,
   "metadata": {},
   "outputs": [],
   "source": [
    "def main():\n",
    "    i = 100\n",
    "    while i > 80:\n",
    "        print(\"i ({}) is greater than 80.\".format(i))\n",
    "        i -= 1\n",
    "    else:\n",
    "        print(\"i ({}) is equal to 80.\".format(i))\n",
    "    \n",
    "if __name__ == '__main__':\n",
    "    main()"
   ]
  },
  {
   "cell_type": "code",
   "execution_count": null,
   "metadata": {},
   "outputs": [],
   "source": [
    "def main():\n",
    "    print( add(4,2) )\n",
    "    print( add(8,-3) )\n",
    "    print( add(382,-129) )\n",
    "\n",
    "def add(x,y):\n",
    "    result = x + y\n",
    "    return result\n",
    "\n",
    "\n",
    "\n",
    "if __name__ == '__main__':\n",
    "    main() # pls try run add(4,2)"
   ]
  },
  {
   "cell_type": "markdown",
   "metadata": {},
   "source": [
    "This format is not essential for python programming, but it becomes important as you become more familiar with python and write more complex code.\n",
    "\n",
    "Try to write code in this format as much as possible in the future."
   ]
  },
  {
   "cell_type": "markdown",
   "metadata": {},
   "source": [
    "### Exercise <font color=\"Crimson\">12-2\n",
    "  \n",
    "**Rewrite the code you wrote in Exercise 12-1 in a format of:**\n",
    "  ```\n",
    "def main():\n",
    "     [All processing]\n",
    "if __name__ == '__main__':\n",
    "     main()\n",
    "  ```"
   ]
  },
  {
   "cell_type": "code",
   "execution_count": null,
   "metadata": {},
   "outputs": [],
   "source": [
    "# Exercise\n",
    "\n",
    "\n"
   ]
  },
  {
   "cell_type": "markdown",
   "metadata": {},
   "source": [
    " "
   ]
  },
  {
   "cell_type": "markdown",
   "metadata": {},
   "source": [
    "# <font color=\"Crimson\">13</font>&nbsp;<font color=\"silver\">|</font> &nbsp;Regular Expressions"
   ]
  },
  {
   "cell_type": "markdown",
   "metadata": {},
   "source": [
    "## 13.1 | <font color=\"Crimson\"> 're' library and regular expression\n",
    "Many programming languages, including python, have a string pattern expression method called **regular expression**. Remember that regular expressions are a very powerful tool for working with strings in programming.\n",
    "\n",
    "If you want to use regular expressions in python, you need to call the `re` library (`re` module).\n",
    "Let's use the functions of the `re` library to see what regular expressions are and what they can do.\n",
    "\n",
    "The following is a text explaining the year 2018.\n",
    "```\n",
    "2018 (MMXVIII) was a common year starting on Monday of the Gregorian calendar, the 2018th year of the Common Era (CE) and Anno Domini (AD) designations, the 18th year of the 3rd millennium, the 18th year of the 21st century, and the 9th year of the 2010s decade.\n",
    "```\n",
    "How many of these numbers are represented by Arabic numerals?\n",
    "\n",
    "You can get the answer with just the functions and syntax you have learned so far, but you can easily find out by using regular expressions.\n",
    "\n",
    "To try it out, try running the code below."
   ]
  },
  {
   "cell_type": "code",
   "execution_count": null,
   "metadata": {},
   "outputs": [],
   "source": [
    "import re # importing re library.\n",
    "text = \"2018 (MMXVIII) was a common year starting on Monday of the Gregorian calendar, the 2018th year of the Common Era (CE) and Anno Domini (AD) designations, the 18th year of the 3rd millennium, the 18th year of the 21st century, and the 9th year of the 2010s decade.\"\n",
    "pattern = r\"\\d+\"\n",
    "li = re.findall(pattern, text)\n",
    "print( li )"
   ]
  },
  {
   "cell_type": "markdown",
   "metadata": {},
   "source": [
    "As a result of execution, you will see a list of all the Arabic numerals that can be found in this text.\n",
    "There is a line \n",
    "```\n",
    "pattern = r\"\\d+\"\n",
    "``` \n",
    "in this code, and the `\\d +` part is the regular expression. `\\d` represents any single character of the Arabic numerals (0-9), and the following `+` means one or more repetitions of the previous expression.\n",
    "\n",
    "That being said, `\\d +` represents an Arabic numeral that lasts one or more characters. At this time, no specific Arabic numerals are specified, and only the **pattern** of the string is specified.\n",
    "Also, if you want to use a regular expression like the code above, you need to enclose the regular expression in `r\" \"`.\n",
    "\n",
    "The function `re.findall()` used in the code \n",
    "```\n",
    "re.findall(pattern, text)\n",
    "``` \n",
    "uses the pattern (regular expression) given to the first argument as the character of the second argument. This searches the sequence and returns a list of matched strings.\n",
    "\n",
    "Here is another example."
   ]
  },
  {
   "cell_type": "code",
   "execution_count": null,
   "metadata": {},
   "outputs": [],
   "source": [
    "import re # importing re library.\n",
    "text = \"2018 (MMXVIII) was a common year starting on Monday of the Gregorian calendar, the 2018th year of the Common Era (CE) and Anno Domini (AD) designations, the 18th year of the 3rd millennium, the 18th year of the 21st century, and the 9th year of the 2010s decade.\"\n",
    "pattern = r\"[A-Z][a-z]+\"\n",
    "li = re.findall(pattern, text)\n",
    "print( li )"
   ]
  },
  {
   "cell_type": "markdown",
   "metadata": {},
   "source": [
    "This code changes the pattern of the previous code, and outputs the result of searching only for words that have initial capital letters.\n",
    "\n",
    "If numbers and alphabets are connected with hyphens such as `[A-Z]`, `[a-z]`, `[0-9]`, one of alphabets from A to Z or alphabet from a to z (lowercase) or any Arabic numeral from 0-9. \n",
    "\n",
    "By the way, `[0-9]` is almost synonymous with `\\d`.\n",
    "\n",
    "The pattern `[A-Z] [a-z] +` indicates that the first character is one of A to Z, and then one or more characters from a to z follow."
   ]
  },
  {
   "cell_type": "markdown",
   "metadata": {},
   "source": [
    "`\\w`, `\\d`, and `+` that have special meaning in regular expressions are called metacharacters. It is impossible to introduce all meta characters here, but there are many sites that gather meta characters that can be used in regular expressions.\n",
    "\n",
    "Example:\n",
    "* https://www.shortcutfoo.com/app/dojos/python-regex/cheatsheet\n",
    "* https://www.debuggex.com/cheatsheet/regex/python\n",
    "\n",
    "Please refer to such sites as appropriate.\n",
    "\n",
    "\n",
    "If you want to know more about regular expressions in python, you can visit this site.\n",
    "\n",
    "https://docs.python.org/3/howto/regex.html"
   ]
  },
  {
   "cell_type": "markdown",
   "metadata": {},
   "source": [
    "### Exercise <font color=\"Crimson\">13-1\n",
    "  \n",
    "The pattern ```r\"c[a-z]+\"``` means a string starting with `c`. Using `re.findall()`, make a list containing all words in `text` above started with `c`. Compare it with just ```r\"c[a-z]\"``` or ```r\"c+\"```.\n",
    "\n"
   ]
  },
  {
   "cell_type": "code",
   "execution_count": null,
   "metadata": {},
   "outputs": [],
   "source": [
    "#Exercise 13-1\n",
    "\n",
    "import re # importing re library.\n",
    "text = \"2018 (MMXVIII) was a common year starting on Monday of the Gregorian calendar, the 2018th year of the Common Era (CE) and Anno Domini (AD) designations, the 18th year of the 3rd millennium, the 18th year of the 21st century, and the 9th year of the 2010s decade.\"\n",
    "pattern = r\"c[a-z]+\"\n",
    "lii = re.findall(pattern, text)\n",
    "print(lii)"
   ]
  },
  {
   "cell_type": "markdown",
   "metadata": {},
   "source": [
    "## 13.2 | <font color=\"Crimson\"> `re` library functions\n",
    "Here we introduce functions of `re` library other than `re.findall()`.\n",
    "\n",
    "| function ||\n",
    "| --- | --- |\n",
    "re.search (pattern, string) | Match pattern anywhere in the string\n",
    "re.split (pattern, string) | Split string by occurrences of patern\n",
    "re.sub (pattern, str2, string) | Replace leftmost non-overlapping occurrences of pattern in string with str2\n",
    "\n",
    "Let's look at each usage example."
   ]
  },
  {
   "cell_type": "markdown",
   "metadata": {},
   "source": [
    "#### re.search (pattern, string)\n",
    "This checks if there is a string that matches the pattern. It is convenient to combine with `if` statement like the code below."
   ]
  },
  {
   "cell_type": "code",
   "execution_count": null,
   "metadata": {},
   "outputs": [],
   "source": [
    "import re # importing re library.\n",
    "text = \"2018 (MMXVIII) was a common year starting on Monday of the Gregorian calendar, the 2018th year of the Common Era (CE) and Anno Domini (AD) designations, the 18th year of the 3rd millennium, the 18th year of the 21st century, and the 9th year of the 2010s decade.\"\n",
    "pattern = r\"\\d+\"\n",
    "if re.search(pattern, text):\n",
    "    print(\"The text contains region(s), which match the pattern r\\\"\\d*\\\"\")"
   ]
  },
  {
   "cell_type": "markdown",
   "metadata": {},
   "source": [
    "### Exercise <font color=\"Crimson\">13-2\n",
    "  \n",
    "a.  The pattern ```r\"\\s\"``` means one white-space. Using `re.search`, check if our `text` from example above contains one white-space.\n",
    "  \n",
    "b. The pattern ```r\"\\d{2}\"``` means exactly two digit. Using `re.search`, check if our `text` from example above contains a substring containing 5 digit.\n",
    "\n"
   ]
  },
  {
   "cell_type": "code",
   "execution_count": null,
   "metadata": {},
   "outputs": [],
   "source": [
    "#Exercise 13-2\n",
    "import re # importing re library.\n",
    "text = \"2018 (MMXVIII) was a common year starting on Monday of the Gregorian calendar, the 2018th year of the Common Era (CE) and Anno Domini (AD) designations, the 18th year of the 3rd millennium, the 18th year of the 21st century, and the 9th year of the 2010s decade.\"\n",
    "#a.\n",
    "\n",
    "\n",
    "#b.\n",
    "\n",
    "\n",
    "\n"
   ]
  },
  {
   "cell_type": "markdown",
   "metadata": {},
   "source": [
    "#### re.split (pattern, string)\n",
    "This divides string by a string that matches the pattern and returns it as a list.\n",
    "In this case, the string that matches the pattern does not remain in the list."
   ]
  },
  {
   "cell_type": "code",
   "execution_count": null,
   "metadata": {},
   "outputs": [],
   "source": [
    "import re # importing re library.\n",
    "text = \"2018 (MMXVIII) was a common year starting on Monday of the Gregorian calendar, the 2018th year of the Common Era (CE) and Anno Domini (AD) designations, the 18th year of the 3rd millennium, the 18th year of the 21st century, and the 9th year of the 2010s decade.\"\n",
    "pattern = r\"\\d+\"\n",
    "li = re.split(pattern, text)\n",
    "print( li )"
   ]
  },
  {
   "cell_type": "markdown",
   "metadata": {},
   "source": [
    "### Exercise <font color=\"Crimson\">13-3\n",
    "  \n",
    "a. Remember that the pattern ```r\"\\s\"``` means one white-space. Using `re.split`, make a list containing all the words in the `text` above.\n",
    "  \n",
    "b. The pattern ```r\"a\"``` means the character `a`. You can change `a` to be any letter. \n",
    "Using `re.split`, make a list containing all the characters between two \"`a`\"s in the `text above."
   ]
  },
  {
   "cell_type": "code",
   "execution_count": null,
   "metadata": {},
   "outputs": [],
   "source": [
    "#Exercise 13-3\n",
    "import re\n",
    "text = \"2018 (MMXVIII) was a common year starting on Monday of the Gregorian calendar, the 2018th year of the Common Era (CE) and Anno Domini (AD) designations, the 18th year of the 3rd millennium, the 18th year of the 21st century, and the 9th year of the 2010s decade.\"\n",
    "#a.\n",
    "\n",
    "#b.\n",
    "\n",
    "\n"
   ]
  },
  {
   "cell_type": "markdown",
   "metadata": {},
   "source": [
    "#### re.sub (pattern, str2, string)\n",
    "This replaces the string that matches the pattern in string with str2."
   ]
  },
  {
   "cell_type": "code",
   "execution_count": null,
   "metadata": {},
   "outputs": [],
   "source": [
    "import re # importing re library.\n",
    "text = \"2018 (MMXVIII) was a common year starting on Monday of the Gregorian calendar, the 2018th year of the Common Era (CE) and Anno Domini (AD) designations, the 18th year of the 3rd millennium, the 18th year of the 21st century, and the 9th year of the 2010s decade.\"\n",
    "pattern = r\"\\d+\"\n",
    "result = re.sub(pattern, \"XXXX\", text)\n",
    "print( result )"
   ]
  },
  {
   "cell_type": "markdown",
   "metadata": {},
   "source": [
    "### Exercise <font color=\"Crimson\">13-4\n",
    "  \n",
    "a. Using `re.sub`, try to replace all white space in `text` above with hyphen \"`-`\".\n",
    "  \n",
    "b. Using `re.sub`, try to replace `a` with `e`, and `i` with `o` in the `text` above. "
   ]
  },
  {
   "cell_type": "code",
   "execution_count": null,
   "metadata": {},
   "outputs": [],
   "source": [
    "#Exercise 13-4\n",
    "import re\n",
    "text = \"2018 (MMXVIII) was a common year starting on Monday of the Gregorian calendar, the 2018th year of the Common Era (CE) and Anno Domini (AD) designations, the 18th year of the 3rd millennium, the 18th year of the 21st century, and the 9th year of the 2010s decade.\"\n",
    "\n",
    "#a.\n",
    "\n",
    "#b.\n",
    "\n"
   ]
  }
 ],
 "metadata": {
  "kernelspec": {
   "display_name": "Python 3",
   "language": "python",
   "name": "python3"
  },
  "language_info": {
   "codemirror_mode": {
    "name": "ipython",
    "version": 3
   },
   "file_extension": ".py",
   "mimetype": "text/x-python",
   "name": "python",
   "nbconvert_exporter": "python",
   "pygments_lexer": "ipython3",
   "version": "3.8.2"
  },
  "vscode": {
   "interpreter": {
    "hash": "bacf442dd56334e4b69e72ddff5b01ed65853027b9c6882098e33c867bfda15a"
   }
  }
 },
 "nbformat": 4,
 "nbformat_minor": 4
}
