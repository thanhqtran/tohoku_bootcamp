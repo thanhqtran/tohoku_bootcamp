{
 "cells": [
  {
   "attachments": {},
   "cell_type": "markdown",
   "metadata": {},
   "source": [
    "# Day01 Python\n",
    "\n",
    "construct a *research project*\n",
    "\n",
    "1. Set Environment\n",
    "1. Printing\n",
    "1. Calculation\n",
    "1. Instance and Class\n",
    "1. Variables\n",
    "1. String\n",
    "1. `If` Statement\n",
    "1. Iterative Processing - `while` and `for`\n",
    "1. List\n",
    "1. Dictionary\n",
    "1. Character Extraction\n",
    "1. Library\n",
    "1. Functions\n",
    "1. Regular Expressions"
   ]
  },
  {
   "cell_type": "code",
   "execution_count": null,
   "metadata": {},
   "outputs": [],
   "source": []
  }
 ],
 "metadata": {
  "kernelspec": {
   "display_name": "Python 3",
   "language": "python",
   "name": "python3"
  },
  "language_info": {
   "codemirror_mode": {
    "name": "ipython",
    "version": 3
   },
   "file_extension": ".py",
   "mimetype": "text/x-python",
   "name": "python",
   "nbconvert_exporter": "python",
   "pygments_lexer": "ipython3",
   "version": "3.8.2"
  },
  "orig_nbformat": 4,
  "vscode": {
   "interpreter": {
    "hash": "bacf442dd56334e4b69e72ddff5b01ed65853027b9c6882098e33c867bfda15a"
   }
  }
 },
 "nbformat": 4,
 "nbformat_minor": 2
}
